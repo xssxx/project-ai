{
 "cells": [
  {
   "cell_type": "code",
   "execution_count": 4,
   "metadata": {},
   "outputs": [
    {
     "name": "stdout",
     "output_type": "stream",
     "text": [
      "Mean Squared Error (MSE) for Envi: 475420541.81234163\n",
      "Mean Squared Error (MSE) for Fuji: 6732327963.077978\n",
      "Mean Squared Error (MSE) for Gala: 22045650.614828892\n",
      "R-squared (R2) for Envi: 0.4922543521610304\n",
      "R-squared (R2) for Fuji: -0.1664789620152647\n",
      "R-squared (R2) for Gala: 0.0454635516592522\n"
     ]
    }
   ],
   "source": [
    "from sklearn.model_selection import train_test_split\n",
    "from sklearn.metrics import mean_squared_error, r2_score\n",
    "from sklearn.linear_model import LinearRegression\n",
    "import numpy as np\n",
    "import pandas as pd\n",
    "\n",
    "# Load the data\n",
    "data = pd.read_csv(\"datasets/Conventional.csv\")\n",
    "\n",
    "# Prepare the data\n",
    "dates = data['Date']\n",
    "envi_values = data['Envi']\n",
    "fuji_values = data['Fuji']\n",
    "gala_values = data['Gala']\n",
    "\n",
    "# Define the window size\n",
    "window_size = 4\n",
    "\n",
    "# Create a function to generate windowed data\n",
    "def create_windowed_data(series):\n",
    "    X = []\n",
    "    y = []\n",
    "    for i in range(len(series) - window_size):\n",
    "        X.append(series[i:i+window_size])\n",
    "        y.append(series[i+window_size])\n",
    "    return np.array(X), np.array(y)\n",
    "\n",
    "def window_input_output(inp: int, out: int, data: pd.DataFrame) -> pd.DataFrame:\n",
    "    df = data.copy()\n",
    "    i = 1\n",
    "    while i < inp:\n",
    "        df[f'x_{i}'] = df.iloc[:, 0].shift(i)\n",
    "        i += 1\n",
    "    j = 0\n",
    "    while j < out:\n",
    "        df[f'y_{j}'] = df.iloc[:, 0].shift(out+j)\n",
    "        j += 1\n",
    "    df = df.dropna(axis=0)\n",
    "    return df\n",
    "\n",
    "# Create windowed data for each fruit type\n",
    "X_envi, y_envi = create_windowed_data(envi_values)\n",
    "X_fuji, y_fuji = create_windowed_data(fuji_values)\n",
    "X_gala, y_gala = create_windowed_data(gala_values)\n",
    "\n",
    "# Split the data into training and testing sets\n",
    "X_envi_train, X_envi_test, y_envi_train, y_envi_test = train_test_split(X_envi, y_envi, test_size=0.2, random_state=42, shuffle=False)\n",
    "X_fuji_train, X_fuji_test, y_fuji_train, y_fuji_test = train_test_split(X_fuji, y_fuji, test_size=0.2, random_state=42, shuffle=False)\n",
    "X_gala_train, X_gala_test, y_gala_train, y_gala_test = train_test_split(X_gala, y_gala, test_size=0.2, random_state=42, shuffle=False)\n",
    "\n",
    "# Initialize linear regression models\n",
    "model_envi = LinearRegression()\n",
    "model_fuji = LinearRegression()\n",
    "model_gala = LinearRegression()\n",
    "\n",
    "# Fit linear regression models\n",
    "model_envi.fit(X_envi_train, y_envi_train)\n",
    "model_fuji.fit(X_fuji_train, y_fuji_train)\n",
    "model_gala.fit(X_gala_train, y_gala_train)\n",
    "\n",
    "# Predictions on the test set\n",
    "pred_envi_test = model_envi.predict(X_envi_test)\n",
    "pred_fuji_test = model_fuji.predict(X_fuji_test)\n",
    "pred_gala_test = model_gala.predict(X_gala_test)\n",
    "\n",
    "# Compute MSE for each fruit type\n",
    "mse_envi = mean_squared_error(y_envi_test, pred_envi_test)\n",
    "mse_fuji = mean_squared_error(y_fuji_test, pred_fuji_test)\n",
    "mse_gala = mean_squared_error(y_gala_test, pred_gala_test)\n",
    "\n",
    "# Compute R2 score for each fruit type\n",
    "r2_envi = r2_score(y_envi_test, pred_envi_test)\n",
    "r2_fuji = r2_score(y_fuji_test, pred_fuji_test)\n",
    "r2_gala = r2_score(y_gala_test, pred_gala_test)\n",
    "\n",
    "print(\"Mean Squared Error (MSE) for Envi:\", mse_envi)\n",
    "print(\"Mean Squared Error (MSE) for Fuji:\", mse_fuji)\n",
    "print(\"Mean Squared Error (MSE) for Gala:\", mse_gala)\n",
    "\n",
    "print(\"R-squared (R2) for Envi:\", r2_envi)\n",
    "print(\"R-squared (R2) for Fuji:\", r2_fuji)\n",
    "print(\"R-squared (R2) for Gala:\", r2_gala)\n"
   ]
  }
 ],
 "metadata": {
  "kernelspec": {
   "display_name": "Python 3.8.10 64-bit",
   "language": "python",
   "name": "python3"
  },
  "language_info": {
   "codemirror_mode": {
    "name": "ipython",
    "version": 3
   },
   "file_extension": ".py",
   "mimetype": "text/x-python",
   "name": "python",
   "nbconvert_exporter": "python",
   "pygments_lexer": "ipython3",
   "version": "3.8.10"
  },
  "orig_nbformat": 4,
  "vscode": {
   "interpreter": {
    "hash": "ffbfc792e496a15b6b750fac43e7a9afdc7c26545a7abda9dc172ad3cb978227"
   }
  }
 },
 "nbformat": 4,
 "nbformat_minor": 2
}

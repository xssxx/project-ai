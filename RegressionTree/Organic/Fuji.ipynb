{
 "cells": [
  {
   "cell_type": "code",
   "execution_count": 1,
   "metadata": {
    "id": "gTZPaC8gJ6AH"
   },
   "outputs": [],
   "source": [
    "import sys\n",
    "sys.path.append('../../')\n",
    "from helpers.window import window_input_output"
   ]
  },
  {
   "cell_type": "code",
   "execution_count": 2,
   "metadata": {
    "id": "0V_BIGDE9lY5"
   },
   "outputs": [],
   "source": [
    "import pandas as pd\n",
    "import numpy as np\n",
    "import matplotlib.pyplot as plt\n",
    "import seaborn as sns\n",
    "from sklearn.tree import DecisionTreeRegressor\n",
    "from sklearn.model_selection import train_test_split, GridSearchCV\n",
    "from sklearn.metrics import mean_absolute_error, mean_squared_error"
   ]
  },
  {
   "cell_type": "markdown",
   "metadata": {
    "id": "ZLFcMsY5Rgls"
   },
   "source": [
    "# Import data"
   ]
  },
  {
   "cell_type": "code",
   "execution_count": 3,
   "metadata": {
    "colab": {
     "base_uri": "https://localhost:8080/",
     "height": 206
    },
    "id": "ctjAAqzB-tjz",
    "outputId": "fe5852e0-6f48-47d7-e4f5-2a9280506f0a"
   },
   "outputs": [
    {
     "data": {
      "text/html": [
       "<div>\n",
       "<style scoped>\n",
       "    .dataframe tbody tr th:only-of-type {\n",
       "        vertical-align: middle;\n",
       "    }\n",
       "\n",
       "    .dataframe tbody tr th {\n",
       "        vertical-align: top;\n",
       "    }\n",
       "\n",
       "    .dataframe thead th {\n",
       "        text-align: right;\n",
       "    }\n",
       "</style>\n",
       "<table border=\"1\" class=\"dataframe\">\n",
       "  <thead>\n",
       "    <tr style=\"text-align: right;\">\n",
       "      <th></th>\n",
       "      <th>Date</th>\n",
       "      <th>Envi</th>\n",
       "      <th>Fuji</th>\n",
       "      <th>Gala</th>\n",
       "    </tr>\n",
       "  </thead>\n",
       "  <tbody>\n",
       "    <tr>\n",
       "      <th>0</th>\n",
       "      <td>2015-01-04</td>\n",
       "      <td>3199</td>\n",
       "      <td>6917</td>\n",
       "      <td>8</td>\n",
       "    </tr>\n",
       "    <tr>\n",
       "      <th>1</th>\n",
       "      <td>2015-01-11</td>\n",
       "      <td>8856</td>\n",
       "      <td>15071</td>\n",
       "      <td>25</td>\n",
       "    </tr>\n",
       "    <tr>\n",
       "      <th>2</th>\n",
       "      <td>2015-01-18</td>\n",
       "      <td>5475</td>\n",
       "      <td>32539</td>\n",
       "      <td>42</td>\n",
       "    </tr>\n",
       "    <tr>\n",
       "      <th>3</th>\n",
       "      <td>2015-01-25</td>\n",
       "      <td>4271</td>\n",
       "      <td>8412</td>\n",
       "      <td>585</td>\n",
       "    </tr>\n",
       "    <tr>\n",
       "      <th>4</th>\n",
       "      <td>2015-02-01</td>\n",
       "      <td>4824</td>\n",
       "      <td>10710</td>\n",
       "      <td>104</td>\n",
       "    </tr>\n",
       "  </tbody>\n",
       "</table>\n",
       "</div>"
      ],
      "text/plain": [
       "         Date  Envi   Fuji  Gala\n",
       "0  2015-01-04  3199   6917     8\n",
       "1  2015-01-11  8856  15071    25\n",
       "2  2015-01-18  5475  32539    42\n",
       "3  2015-01-25  4271   8412   585\n",
       "4  2015-02-01  4824  10710   104"
      ]
     },
     "execution_count": 3,
     "metadata": {},
     "output_type": "execute_result"
    }
   ],
   "source": [
    "df = pd.read_csv('../../datasets/Organic.csv')\n",
    "df.head()"
   ]
  },
  {
   "cell_type": "code",
   "execution_count": 4,
   "metadata": {
    "colab": {
     "base_uri": "https://localhost:8080/",
     "height": 452
    },
    "id": "5R7BXcpTFQzj",
    "outputId": "f062ea26-894d-4c07-bdb7-3f96e2f57a21"
   },
   "outputs": [
    {
     "data": {
      "image/png": "[encoded data removed]",
      "text/plain": [
       "<Figure size 640x480 with 1 Axes>"
      ]
     },
     "metadata": {},
     "output_type": "display_data"
    }
   ],
   "source": [
    "data = df[['Fuji']]\n",
    "data.hist();"
   ]
  },
  {
   "cell_type": "code",
   "execution_count": 5,
   "metadata": {
    "colab": {
     "base_uri": "https://localhost:8080/",
     "height": 443
    },
    "id": "jz0ZzDQaFVqp",
    "outputId": "48610a7e-3cd7-4b9a-ae5e-456fe2eeff98"
   },
   "outputs": [
    {
     "data": {
      "text/html": [
       "<div>\n",
       "<style scoped>\n",
       "    .dataframe tbody tr th:only-of-type {\n",
       "        vertical-align: middle;\n",
       "    }\n",
       "\n",
       "    .dataframe tbody tr th {\n",
       "        vertical-align: top;\n",
       "    }\n",
       "\n",
       "    .dataframe thead th {\n",
       "        text-align: right;\n",
       "    }\n",
       "</style>\n",
       "<table border=\"1\" class=\"dataframe\">\n",
       "  <thead>\n",
       "    <tr style=\"text-align: right;\">\n",
       "      <th></th>\n",
       "      <th>Fuji</th>\n",
       "      <th>x_1</th>\n",
       "      <th>x_2</th>\n",
       "      <th>x_3</th>\n",
       "      <th>x_4</th>\n",
       "      <th>x_5</th>\n",
       "      <th>x_6</th>\n",
       "      <th>x_7</th>\n",
       "      <th>x_8</th>\n",
       "      <th>x_9</th>\n",
       "      <th>...</th>\n",
       "      <th>y_4</th>\n",
       "      <th>y_5</th>\n",
       "      <th>y_6</th>\n",
       "      <th>y_7</th>\n",
       "      <th>y_8</th>\n",
       "      <th>y_9</th>\n",
       "      <th>y_10</th>\n",
       "      <th>y_11</th>\n",
       "      <th>y_12</th>\n",
       "      <th>y_13</th>\n",
       "    </tr>\n",
       "  </thead>\n",
       "  <tbody>\n",
       "    <tr>\n",
       "      <th>27</th>\n",
       "      <td>3067</td>\n",
       "      <td>3059.0</td>\n",
       "      <td>2930.0</td>\n",
       "      <td>2918.0</td>\n",
       "      <td>4349.0</td>\n",
       "      <td>4702.0</td>\n",
       "      <td>4800.0</td>\n",
       "      <td>5498.0</td>\n",
       "      <td>8930.0</td>\n",
       "      <td>8573.0</td>\n",
       "      <td>...</td>\n",
       "      <td>26156.0</td>\n",
       "      <td>11650.0</td>\n",
       "      <td>6082.0</td>\n",
       "      <td>7062.0</td>\n",
       "      <td>7175.0</td>\n",
       "      <td>10710.0</td>\n",
       "      <td>8412.0</td>\n",
       "      <td>32539.0</td>\n",
       "      <td>15071.0</td>\n",
       "      <td>6917.0</td>\n",
       "    </tr>\n",
       "    <tr>\n",
       "      <th>28</th>\n",
       "      <td>2605</td>\n",
       "      <td>3067.0</td>\n",
       "      <td>3059.0</td>\n",
       "      <td>2930.0</td>\n",
       "      <td>2918.0</td>\n",
       "      <td>4349.0</td>\n",
       "      <td>4702.0</td>\n",
       "      <td>4800.0</td>\n",
       "      <td>5498.0</td>\n",
       "      <td>8930.0</td>\n",
       "      <td>...</td>\n",
       "      <td>27507.0</td>\n",
       "      <td>26156.0</td>\n",
       "      <td>11650.0</td>\n",
       "      <td>6082.0</td>\n",
       "      <td>7062.0</td>\n",
       "      <td>7175.0</td>\n",
       "      <td>10710.0</td>\n",
       "      <td>8412.0</td>\n",
       "      <td>32539.0</td>\n",
       "      <td>15071.0</td>\n",
       "    </tr>\n",
       "    <tr>\n",
       "      <th>29</th>\n",
       "      <td>2620</td>\n",
       "      <td>2605.0</td>\n",
       "      <td>3067.0</td>\n",
       "      <td>3059.0</td>\n",
       "      <td>2930.0</td>\n",
       "      <td>2918.0</td>\n",
       "      <td>4349.0</td>\n",
       "      <td>4702.0</td>\n",
       "      <td>4800.0</td>\n",
       "      <td>5498.0</td>\n",
       "      <td>...</td>\n",
       "      <td>8035.0</td>\n",
       "      <td>27507.0</td>\n",
       "      <td>26156.0</td>\n",
       "      <td>11650.0</td>\n",
       "      <td>6082.0</td>\n",
       "      <td>7062.0</td>\n",
       "      <td>7175.0</td>\n",
       "      <td>10710.0</td>\n",
       "      <td>8412.0</td>\n",
       "      <td>32539.0</td>\n",
       "    </tr>\n",
       "    <tr>\n",
       "      <th>30</th>\n",
       "      <td>2963</td>\n",
       "      <td>2620.0</td>\n",
       "      <td>2605.0</td>\n",
       "      <td>3067.0</td>\n",
       "      <td>3059.0</td>\n",
       "      <td>2930.0</td>\n",
       "      <td>2918.0</td>\n",
       "      <td>4349.0</td>\n",
       "      <td>4702.0</td>\n",
       "      <td>4800.0</td>\n",
       "      <td>...</td>\n",
       "      <td>8344.0</td>\n",
       "      <td>8035.0</td>\n",
       "      <td>27507.0</td>\n",
       "      <td>26156.0</td>\n",
       "      <td>11650.0</td>\n",
       "      <td>6082.0</td>\n",
       "      <td>7062.0</td>\n",
       "      <td>7175.0</td>\n",
       "      <td>10710.0</td>\n",
       "      <td>8412.0</td>\n",
       "    </tr>\n",
       "    <tr>\n",
       "      <th>31</th>\n",
       "      <td>3931</td>\n",
       "      <td>2963.0</td>\n",
       "      <td>2620.0</td>\n",
       "      <td>2605.0</td>\n",
       "      <td>3067.0</td>\n",
       "      <td>3059.0</td>\n",
       "      <td>2930.0</td>\n",
       "      <td>2918.0</td>\n",
       "      <td>4349.0</td>\n",
       "      <td>4702.0</td>\n",
       "      <td>...</td>\n",
       "      <td>6633.0</td>\n",
       "      <td>8344.0</td>\n",
       "      <td>8035.0</td>\n",
       "      <td>27507.0</td>\n",
       "      <td>26156.0</td>\n",
       "      <td>11650.0</td>\n",
       "      <td>6082.0</td>\n",
       "      <td>7062.0</td>\n",
       "      <td>7175.0</td>\n",
       "      <td>10710.0</td>\n",
       "    </tr>\n",
       "    <tr>\n",
       "      <th>...</th>\n",
       "      <td>...</td>\n",
       "      <td>...</td>\n",
       "      <td>...</td>\n",
       "      <td>...</td>\n",
       "      <td>...</td>\n",
       "      <td>...</td>\n",
       "      <td>...</td>\n",
       "      <td>...</td>\n",
       "      <td>...</td>\n",
       "      <td>...</td>\n",
       "      <td>...</td>\n",
       "      <td>...</td>\n",
       "      <td>...</td>\n",
       "      <td>...</td>\n",
       "      <td>...</td>\n",
       "      <td>...</td>\n",
       "      <td>...</td>\n",
       "      <td>...</td>\n",
       "      <td>...</td>\n",
       "      <td>...</td>\n",
       "      <td>...</td>\n",
       "    </tr>\n",
       "    <tr>\n",
       "      <th>164</th>\n",
       "      <td>751</td>\n",
       "      <td>598.0</td>\n",
       "      <td>639.0</td>\n",
       "      <td>497.0</td>\n",
       "      <td>551.0</td>\n",
       "      <td>687.0</td>\n",
       "      <td>839.0</td>\n",
       "      <td>939.0</td>\n",
       "      <td>483.0</td>\n",
       "      <td>528.0</td>\n",
       "      <td>...</td>\n",
       "      <td>907.0</td>\n",
       "      <td>1115.0</td>\n",
       "      <td>484.0</td>\n",
       "      <td>236.0</td>\n",
       "      <td>244.0</td>\n",
       "      <td>478.0</td>\n",
       "      <td>525.0</td>\n",
       "      <td>500.0</td>\n",
       "      <td>507.0</td>\n",
       "      <td>520.0</td>\n",
       "    </tr>\n",
       "    <tr>\n",
       "      <th>165</th>\n",
       "      <td>589</td>\n",
       "      <td>751.0</td>\n",
       "      <td>598.0</td>\n",
       "      <td>639.0</td>\n",
       "      <td>497.0</td>\n",
       "      <td>551.0</td>\n",
       "      <td>687.0</td>\n",
       "      <td>839.0</td>\n",
       "      <td>939.0</td>\n",
       "      <td>483.0</td>\n",
       "      <td>...</td>\n",
       "      <td>572.0</td>\n",
       "      <td>907.0</td>\n",
       "      <td>1115.0</td>\n",
       "      <td>484.0</td>\n",
       "      <td>236.0</td>\n",
       "      <td>244.0</td>\n",
       "      <td>478.0</td>\n",
       "      <td>525.0</td>\n",
       "      <td>500.0</td>\n",
       "      <td>507.0</td>\n",
       "    </tr>\n",
       "    <tr>\n",
       "      <th>166</th>\n",
       "      <td>640</td>\n",
       "      <td>589.0</td>\n",
       "      <td>751.0</td>\n",
       "      <td>598.0</td>\n",
       "      <td>639.0</td>\n",
       "      <td>497.0</td>\n",
       "      <td>551.0</td>\n",
       "      <td>687.0</td>\n",
       "      <td>839.0</td>\n",
       "      <td>939.0</td>\n",
       "      <td>...</td>\n",
       "      <td>412.0</td>\n",
       "      <td>572.0</td>\n",
       "      <td>907.0</td>\n",
       "      <td>1115.0</td>\n",
       "      <td>484.0</td>\n",
       "      <td>236.0</td>\n",
       "      <td>244.0</td>\n",
       "      <td>478.0</td>\n",
       "      <td>525.0</td>\n",
       "      <td>500.0</td>\n",
       "    </tr>\n",
       "    <tr>\n",
       "      <th>167</th>\n",
       "      <td>797</td>\n",
       "      <td>640.0</td>\n",
       "      <td>589.0</td>\n",
       "      <td>751.0</td>\n",
       "      <td>598.0</td>\n",
       "      <td>639.0</td>\n",
       "      <td>497.0</td>\n",
       "      <td>551.0</td>\n",
       "      <td>687.0</td>\n",
       "      <td>839.0</td>\n",
       "      <td>...</td>\n",
       "      <td>412.0</td>\n",
       "      <td>412.0</td>\n",
       "      <td>572.0</td>\n",
       "      <td>907.0</td>\n",
       "      <td>1115.0</td>\n",
       "      <td>484.0</td>\n",
       "      <td>236.0</td>\n",
       "      <td>244.0</td>\n",
       "      <td>478.0</td>\n",
       "      <td>525.0</td>\n",
       "    </tr>\n",
       "    <tr>\n",
       "      <th>168</th>\n",
       "      <td>686</td>\n",
       "      <td>797.0</td>\n",
       "      <td>640.0</td>\n",
       "      <td>589.0</td>\n",
       "      <td>751.0</td>\n",
       "      <td>598.0</td>\n",
       "      <td>639.0</td>\n",
       "      <td>497.0</td>\n",
       "      <td>551.0</td>\n",
       "      <td>687.0</td>\n",
       "      <td>...</td>\n",
       "      <td>340.0</td>\n",
       "      <td>412.0</td>\n",
       "      <td>412.0</td>\n",
       "      <td>572.0</td>\n",
       "      <td>907.0</td>\n",
       "      <td>1115.0</td>\n",
       "      <td>484.0</td>\n",
       "      <td>236.0</td>\n",
       "      <td>244.0</td>\n",
       "      <td>478.0</td>\n",
       "    </tr>\n",
       "  </tbody>\n",
       "</table>\n",
       "<p>142 rows × 28 columns</p>\n",
       "</div>"
      ],
      "text/plain": [
       "     Fuji     x_1     x_2     x_3     x_4     x_5     x_6     x_7     x_8  \\\n",
       "27   3067  3059.0  2930.0  2918.0  4349.0  4702.0  4800.0  5498.0  8930.0   \n",
       "28   2605  3067.0  3059.0  2930.0  2918.0  4349.0  4702.0  4800.0  5498.0   \n",
       "29   2620  2605.0  3067.0  3059.0  2930.0  2918.0  4349.0  4702.0  4800.0   \n",
       "30   2963  2620.0  2605.0  3067.0  3059.0  2930.0  2918.0  4349.0  4702.0   \n",
       "31   3931  2963.0  2620.0  2605.0  3067.0  3059.0  2930.0  2918.0  4349.0   \n",
       "..    ...     ...     ...     ...     ...     ...     ...     ...     ...   \n",
       "164   751   598.0   639.0   497.0   551.0   687.0   839.0   939.0   483.0   \n",
       "165   589   751.0   598.0   639.0   497.0   551.0   687.0   839.0   939.0   \n",
       "166   640   589.0   751.0   598.0   639.0   497.0   551.0   687.0   839.0   \n",
       "167   797   640.0   589.0   751.0   598.0   639.0   497.0   551.0   687.0   \n",
       "168   686   797.0   640.0   589.0   751.0   598.0   639.0   497.0   551.0   \n",
       "\n",
       "        x_9  ...      y_4      y_5      y_6      y_7      y_8      y_9  \\\n",
       "27   8573.0  ...  26156.0  11650.0   6082.0   7062.0   7175.0  10710.0   \n",
       "28   8930.0  ...  27507.0  26156.0  11650.0   6082.0   7062.0   7175.0   \n",
       "29   5498.0  ...   8035.0  27507.0  26156.0  11650.0   6082.0   7062.0   \n",
       "30   4800.0  ...   8344.0   8035.0  27507.0  26156.0  11650.0   6082.0   \n",
       "31   4702.0  ...   6633.0   8344.0   8035.0  27507.0  26156.0  11650.0   \n",
       "..      ...  ...      ...      ...      ...      ...      ...      ...   \n",
       "164   528.0  ...    907.0   1115.0    484.0    236.0    244.0    478.0   \n",
       "165   483.0  ...    572.0    907.0   1115.0    484.0    236.0    244.0   \n",
       "166   939.0  ...    412.0    572.0    907.0   1115.0    484.0    236.0   \n",
       "167   839.0  ...    412.0    412.0    572.0    907.0   1115.0    484.0   \n",
       "168   687.0  ...    340.0    412.0    412.0    572.0    907.0   1115.0   \n",
       "\n",
       "        y_10     y_11     y_12     y_13  \n",
       "27    8412.0  32539.0  15071.0   6917.0  \n",
       "28   10710.0   8412.0  32539.0  15071.0  \n",
       "29    7175.0  10710.0   8412.0  32539.0  \n",
       "30    7062.0   7175.0  10710.0   8412.0  \n",
       "31    6082.0   7062.0   7175.0  10710.0  \n",
       "..       ...      ...      ...      ...  \n",
       "164    525.0    500.0    507.0    520.0  \n",
       "165    478.0    525.0    500.0    507.0  \n",
       "166    244.0    478.0    525.0    500.0  \n",
       "167    236.0    244.0    478.0    525.0  \n",
       "168    484.0    236.0    244.0    478.0  \n",
       "\n",
       "[142 rows x 28 columns]"
      ]
     },
     "execution_count": 5,
     "metadata": {},
     "output_type": "execute_result"
    }
   ],
   "source": [
    "seq_df = window_input_output(14, 14, data)\n",
    "seq_df"
   ]
  },
  {
   "cell_type": "markdown",
   "metadata": {
    "id": "sxvJS_dTL0aA"
   },
   "source": [
    "# Split Data\n"
   ]
  },
  {
   "cell_type": "code",
   "execution_count": 6,
   "metadata": {
    "id": "bc_qK8kZL2rm"
   },
   "outputs": [],
   "source": [
    "X_cols = [col for col in seq_df.columns if col.startswith('x')]\n",
    "X_cols.insert(0, 'Fuji')\n",
    "y_cols = [col for col in seq_df.columns if col.startswith('y')]\n",
    "\n",
    "X = seq_df[X_cols]\n",
    "y = seq_df[y_cols]\n",
    "\n",
    "X_train, X_test, y_train, y_test = train_test_split(X, y, test_size=0.2, shuffle=False, random_state=123)"
   ]
  },
  {
   "cell_type": "code",
   "execution_count": 7,
   "metadata": {
    "id": "ZqdM3aHwL5wj"
   },
   "outputs": [],
   "source": [
    "params = {\n",
    "    'criterion': ['squared_error', 'friedman_mse', 'absolute_error', 'poisson'],\n",
    "    'splitter': ['best', 'random'],\n",
    "    'max_features': ['sqrt', 'log2'],\n",
    "    'max_depth': [3, 5, 7, 9, 11, 13],\n",
    "    'min_samples_split': [2, 4, 6, 8, 10],\n",
    "    'min_samples_leaf': [1, 2, 3, 4, 5],\n",
    "    'ccp_alpha': [0.1, 0.01, 0.001]\n",
    "}\n",
    "\n",
    "tree = DecisionTreeRegressor()\n",
    "\n",
    "gs = GridSearchCV(estimator=tree, param_grid=params, cv=5, n_jobs=-1)\n",
    "gs.fit(X_train, y_train)\n",
    "\n",
    "model = gs.best_estimator_\n",
    "\n",
    "y_pred = model.predict(X_test)"
   ]
  },
  {
   "cell_type": "markdown",
   "metadata": {
    "id": "slJFOo_YRuWw"
   },
   "source": [
    "# Score"
   ]
  },
  {
   "cell_type": "code",
   "execution_count": 8,
   "metadata": {
    "colab": {
     "base_uri": "https://localhost:8080/"
    },
    "id": "kLipYfq1L9Tp",
    "outputId": "be737326-df45-43dc-b7b4-f007dcb57093"
   },
   "outputs": [
    {
     "name": "stdout",
     "output_type": "stream",
     "text": [
      "Mean Squared Error (Fuji): 7039347.00862069\n",
      "Mean Absolute Error (Fuji): 2144.4137931034484\n",
      "R-squared (Test score) -1.1876062870428201\n",
      "Train score -0.057026043536751794\n"
     ]
    }
   ],
   "source": [
    "mse = mean_squared_error(y_test, y_pred)\n",
    "print(f\"Mean Squared Error (Fuji):\", mse)\n",
    "mae = mean_absolute_error(y_test, y_pred)\n",
    "print(f\"Mean Absolute Error (Fuji):\", mae)\n",
    "\n",
    "print(\"R-squared (Test score)\", model.score(X_test, y_test))\n",
    "print(\"Train score\", model.score(X_train, y_train))"
   ]
  },
  {
   "cell_type": "markdown",
   "metadata": {
    "id": "RbElRzxvSJiS"
   },
   "source": [
    "# Visualization"
   ]
  },
  {
   "cell_type": "code",
   "execution_count": 9,
   "metadata": {
    "colab": {
     "base_uri": "https://localhost:8080/",
     "height": 407
    },
    "id": "CfJRUZIsMk0_",
    "outputId": "4fc455c7-13a9-40e3-f37f-98c300e00827"
   },
   "outputs": [
    {
     "data": {
      "image/png": "[encoded data removed]",
      "text/plain": [
       "<Figure size 600x400 with 1 Axes>"
      ]
     },
     "metadata": {},
     "output_type": "display_data"
    }
   ],
   "source": [
    "X_test_array = X_test.to_numpy()\n",
    "y_test_array = y_test.to_numpy()\n",
    "\n",
    "fig, ax = plt.subplots(figsize=(6, 4))\n",
    "\n",
    "ax.plot(np.arange(0, 14, 1), X_test_array[1], 'b-', label='Input')\n",
    "ax.plot(np.arange(14, 28, 1), y_test_array[1], color='yellow', label='Actual', linewidth=2)\n",
    "ax.plot(np.arange(14, 28, 1), y_pred[1], color='green', label='Predicted', linestyle='--')\n",
    "\n",
    "ax.set_xlabel('timesteps')\n",
    "ax.set_ylabel('Quantity')\n",
    "plt.grid(True)\n",
    "plt.legend(loc=2)\n",
    "fig.autofmt_xdate()\n",
    "plt.tight_layout()\n",
    "plt.show()"
   ]
  },
  {
   "cell_type": "code",
   "execution_count": 10,
   "metadata": {
    "colab": {
     "base_uri": "https://localhost:8080/",
     "height": 449
    },
    "id": "8ot7BG1LMowT",
    "outputId": "132fd63a-8532-466d-9126-e68c4f594afd"
   },
   "outputs": [
    {
     "data": {
      "image/png": "[encoded data removed]",
      "text/plain": [
       "<Figure size 640x480 with 1 Axes>"
      ]
     },
     "metadata": {},
     "output_type": "display_data"
    }
   ],
   "source": [
    "for i, col in enumerate(y_test.columns):\n",
    "    sns.scatterplot(x=y_test[col], y=y_pred[:, i])\n",
    "\n",
    "    max_val = max(y_test.max().max(), y_pred.max().max())\n",
    "    plt.plot([0, max_val], [0, max_val], color='black', linestyle='--')"
   ]
  }
 ],
 "metadata": {
  "colab": {
   "provenance": []
  },
  "kernelspec": {
   "display_name": "Python 3",
   "language": "python",
   "name": "python3"
  },
  "language_info": {
   "codemirror_mode": {
    "name": "ipython",
    "version": 3
   },
   "file_extension": ".py",
   "mimetype": "text/x-python",
   "name": "python",
   "nbconvert_exporter": "python",
   "pygments_lexer": "ipython3",
   "version": "3.11.5"
  }
 },
 "nbformat": 4,
 "nbformat_minor": 4
}

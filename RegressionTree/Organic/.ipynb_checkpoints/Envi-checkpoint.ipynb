{
 "cells": [
  {
   "cell_type": "code",
   "execution_count": 1,
   "metadata": {
    "id": "gTZPaC8gJ6AH"
   },
   "outputs": [],
   "source": [
    "import sys\n",
    "sys.path.append('../../')\n",
    "from helpers.window import window_input_output"
   ]
  },
  {
   "cell_type": "code",
   "execution_count": 2,
   "metadata": {
    "id": "0V_BIGDE9lY5"
   },
   "outputs": [],
   "source": [
    "import pandas as pd\n",
    "import numpy as np\n",
    "import matplotlib.pyplot as plt\n",
    "import seaborn as sns\n",
    "from sklearn.tree import DecisionTreeRegressor\n",
    "from sklearn.model_selection import train_test_split, GridSearchCV\n",
    "from sklearn.metrics import mean_absolute_error, mean_squared_error"
   ]
  },
  {
   "cell_type": "markdown",
   "metadata": {
    "id": "ZLFcMsY5Rgls"
   },
   "source": [
    "# Import data"
   ]
  },
  {
   "cell_type": "code",
   "execution_count": 3,
   "metadata": {
    "colab": {
     "base_uri": "https://localhost:8080/",
     "height": 206
    },
    "id": "ctjAAqzB-tjz",
    "outputId": "903bfbfc-76c6-4907-8687-b2025cce2806"
   },
   "outputs": [
    {
     "data": {
      "text/html": [
       "<div>\n",
       "<style scoped>\n",
       "    .dataframe tbody tr th:only-of-type {\n",
       "        vertical-align: middle;\n",
       "    }\n",
       "\n",
       "    .dataframe tbody tr th {\n",
       "        vertical-align: top;\n",
       "    }\n",
       "\n",
       "    .dataframe thead th {\n",
       "        text-align: right;\n",
       "    }\n",
       "</style>\n",
       "<table border=\"1\" class=\"dataframe\">\n",
       "  <thead>\n",
       "    <tr style=\"text-align: right;\">\n",
       "      <th></th>\n",
       "      <th>Date</th>\n",
       "      <th>Envi</th>\n",
       "      <th>Fuji</th>\n",
       "      <th>Gala</th>\n",
       "    </tr>\n",
       "  </thead>\n",
       "  <tbody>\n",
       "    <tr>\n",
       "      <th>0</th>\n",
       "      <td>2015-01-04</td>\n",
       "      <td>3199</td>\n",
       "      <td>6917</td>\n",
       "      <td>8</td>\n",
       "    </tr>\n",
       "    <tr>\n",
       "      <th>1</th>\n",
       "      <td>2015-01-11</td>\n",
       "      <td>8856</td>\n",
       "      <td>15071</td>\n",
       "      <td>25</td>\n",
       "    </tr>\n",
       "    <tr>\n",
       "      <th>2</th>\n",
       "      <td>2015-01-18</td>\n",
       "      <td>5475</td>\n",
       "      <td>32539</td>\n",
       "      <td>42</td>\n",
       "    </tr>\n",
       "    <tr>\n",
       "      <th>3</th>\n",
       "      <td>2015-01-25</td>\n",
       "      <td>4271</td>\n",
       "      <td>8412</td>\n",
       "      <td>585</td>\n",
       "    </tr>\n",
       "    <tr>\n",
       "      <th>4</th>\n",
       "      <td>2015-02-01</td>\n",
       "      <td>4824</td>\n",
       "      <td>10710</td>\n",
       "      <td>104</td>\n",
       "    </tr>\n",
       "  </tbody>\n",
       "</table>\n",
       "</div>"
      ],
      "text/plain": [
       "         Date  Envi   Fuji  Gala\n",
       "0  2015-01-04  3199   6917     8\n",
       "1  2015-01-11  8856  15071    25\n",
       "2  2015-01-18  5475  32539    42\n",
       "3  2015-01-25  4271   8412   585\n",
       "4  2015-02-01  4824  10710   104"
      ]
     },
     "execution_count": 3,
     "metadata": {},
     "output_type": "execute_result"
    }
   ],
   "source": [
    "df = pd.read_csv('../../datasets/Organic.csv')\n",
    "df.head()"
   ]
  },
  {
   "cell_type": "code",
   "execution_count": 4,
   "metadata": {
    "colab": {
     "base_uri": "https://localhost:8080/",
     "height": 452
    },
    "id": "5R7BXcpTFQzj",
    "outputId": "6b3fef47-cfc8-49fd-f265-2a34dae23c72"
   },
   "outputs": [
    {
     "data": {
      "image/png": "[encoded data removed]",
      "text/plain": [
       "<Figure size 432x288 with 1 Axes>"
      ]
     },
     "metadata": {
      "needs_background": "light"
     },
     "output_type": "display_data"
    }
   ],
   "source": [
    "data = df[['Envi']]\n",
    "data.hist();"
   ]
  },
  {
   "cell_type": "code",
   "execution_count": 5,
   "metadata": {
    "colab": {
     "base_uri": "https://localhost:8080/",
     "height": 443
    },
    "id": "jz0ZzDQaFVqp",
    "outputId": "1bc3b643-42e8-4e3f-b212-eac531d3fdf6"
   },
   "outputs": [
    {
     "data": {
      "text/html": [
       "<div>\n",
       "<style scoped>\n",
       "    .dataframe tbody tr th:only-of-type {\n",
       "        vertical-align: middle;\n",
       "    }\n",
       "\n",
       "    .dataframe tbody tr th {\n",
       "        vertical-align: top;\n",
       "    }\n",
       "\n",
       "    .dataframe thead th {\n",
       "        text-align: right;\n",
       "    }\n",
       "</style>\n",
       "<table border=\"1\" class=\"dataframe\">\n",
       "  <thead>\n",
       "    <tr style=\"text-align: right;\">\n",
       "      <th></th>\n",
       "      <th>Envi</th>\n",
       "      <th>x_1</th>\n",
       "      <th>x_2</th>\n",
       "      <th>x_3</th>\n",
       "      <th>x_4</th>\n",
       "      <th>x_5</th>\n",
       "      <th>x_6</th>\n",
       "      <th>x_7</th>\n",
       "      <th>x_8</th>\n",
       "      <th>x_9</th>\n",
       "      <th>...</th>\n",
       "      <th>y_4</th>\n",
       "      <th>y_5</th>\n",
       "      <th>y_6</th>\n",
       "      <th>y_7</th>\n",
       "      <th>y_8</th>\n",
       "      <th>y_9</th>\n",
       "      <th>y_10</th>\n",
       "      <th>y_11</th>\n",
       "      <th>y_12</th>\n",
       "      <th>y_13</th>\n",
       "    </tr>\n",
       "  </thead>\n",
       "  <tbody>\n",
       "    <tr>\n",
       "      <th>27</th>\n",
       "      <td>9772</td>\n",
       "      <td>9787.0</td>\n",
       "      <td>10715.0</td>\n",
       "      <td>9953.0</td>\n",
       "      <td>11489.0</td>\n",
       "      <td>11956.0</td>\n",
       "      <td>11232.0</td>\n",
       "      <td>13289.0</td>\n",
       "      <td>19912.0</td>\n",
       "      <td>19400.0</td>\n",
       "      <td>...</td>\n",
       "      <td>34792.0</td>\n",
       "      <td>15769.0</td>\n",
       "      <td>4987.0</td>\n",
       "      <td>2347.0</td>\n",
       "      <td>3018.0</td>\n",
       "      <td>4824.0</td>\n",
       "      <td>4271.0</td>\n",
       "      <td>5475.0</td>\n",
       "      <td>8856.0</td>\n",
       "      <td>3199.0</td>\n",
       "    </tr>\n",
       "    <tr>\n",
       "      <th>28</th>\n",
       "      <td>9847</td>\n",
       "      <td>9772.0</td>\n",
       "      <td>9787.0</td>\n",
       "      <td>10715.0</td>\n",
       "      <td>9953.0</td>\n",
       "      <td>11489.0</td>\n",
       "      <td>11956.0</td>\n",
       "      <td>11232.0</td>\n",
       "      <td>13289.0</td>\n",
       "      <td>19912.0</td>\n",
       "      <td>...</td>\n",
       "      <td>27916.0</td>\n",
       "      <td>34792.0</td>\n",
       "      <td>15769.0</td>\n",
       "      <td>4987.0</td>\n",
       "      <td>2347.0</td>\n",
       "      <td>3018.0</td>\n",
       "      <td>4824.0</td>\n",
       "      <td>4271.0</td>\n",
       "      <td>5475.0</td>\n",
       "      <td>8856.0</td>\n",
       "    </tr>\n",
       "    <tr>\n",
       "      <th>29</th>\n",
       "      <td>9086</td>\n",
       "      <td>9847.0</td>\n",
       "      <td>9772.0</td>\n",
       "      <td>9787.0</td>\n",
       "      <td>10715.0</td>\n",
       "      <td>9953.0</td>\n",
       "      <td>11489.0</td>\n",
       "      <td>11956.0</td>\n",
       "      <td>11232.0</td>\n",
       "      <td>13289.0</td>\n",
       "      <td>...</td>\n",
       "      <td>9366.0</td>\n",
       "      <td>27916.0</td>\n",
       "      <td>34792.0</td>\n",
       "      <td>15769.0</td>\n",
       "      <td>4987.0</td>\n",
       "      <td>2347.0</td>\n",
       "      <td>3018.0</td>\n",
       "      <td>4824.0</td>\n",
       "      <td>4271.0</td>\n",
       "      <td>5475.0</td>\n",
       "    </tr>\n",
       "    <tr>\n",
       "      <th>30</th>\n",
       "      <td>10555</td>\n",
       "      <td>9086.0</td>\n",
       "      <td>9847.0</td>\n",
       "      <td>9772.0</td>\n",
       "      <td>9787.0</td>\n",
       "      <td>10715.0</td>\n",
       "      <td>9953.0</td>\n",
       "      <td>11489.0</td>\n",
       "      <td>11956.0</td>\n",
       "      <td>11232.0</td>\n",
       "      <td>...</td>\n",
       "      <td>5456.0</td>\n",
       "      <td>9366.0</td>\n",
       "      <td>27916.0</td>\n",
       "      <td>34792.0</td>\n",
       "      <td>15769.0</td>\n",
       "      <td>4987.0</td>\n",
       "      <td>2347.0</td>\n",
       "      <td>3018.0</td>\n",
       "      <td>4824.0</td>\n",
       "      <td>4271.0</td>\n",
       "    </tr>\n",
       "    <tr>\n",
       "      <th>31</th>\n",
       "      <td>12491</td>\n",
       "      <td>10555.0</td>\n",
       "      <td>9086.0</td>\n",
       "      <td>9847.0</td>\n",
       "      <td>9772.0</td>\n",
       "      <td>9787.0</td>\n",
       "      <td>10715.0</td>\n",
       "      <td>9953.0</td>\n",
       "      <td>11489.0</td>\n",
       "      <td>11956.0</td>\n",
       "      <td>...</td>\n",
       "      <td>8697.0</td>\n",
       "      <td>5456.0</td>\n",
       "      <td>9366.0</td>\n",
       "      <td>27916.0</td>\n",
       "      <td>34792.0</td>\n",
       "      <td>15769.0</td>\n",
       "      <td>4987.0</td>\n",
       "      <td>2347.0</td>\n",
       "      <td>3018.0</td>\n",
       "      <td>4824.0</td>\n",
       "    </tr>\n",
       "    <tr>\n",
       "      <th>...</th>\n",
       "      <td>...</td>\n",
       "      <td>...</td>\n",
       "      <td>...</td>\n",
       "      <td>...</td>\n",
       "      <td>...</td>\n",
       "      <td>...</td>\n",
       "      <td>...</td>\n",
       "      <td>...</td>\n",
       "      <td>...</td>\n",
       "      <td>...</td>\n",
       "      <td>...</td>\n",
       "      <td>...</td>\n",
       "      <td>...</td>\n",
       "      <td>...</td>\n",
       "      <td>...</td>\n",
       "      <td>...</td>\n",
       "      <td>...</td>\n",
       "      <td>...</td>\n",
       "      <td>...</td>\n",
       "      <td>...</td>\n",
       "      <td>...</td>\n",
       "    </tr>\n",
       "    <tr>\n",
       "      <th>164</th>\n",
       "      <td>8387</td>\n",
       "      <td>8065.0</td>\n",
       "      <td>5261.0</td>\n",
       "      <td>3747.0</td>\n",
       "      <td>6132.0</td>\n",
       "      <td>7842.0</td>\n",
       "      <td>8396.0</td>\n",
       "      <td>8897.0</td>\n",
       "      <td>4401.0</td>\n",
       "      <td>6227.0</td>\n",
       "      <td>...</td>\n",
       "      <td>5719.0</td>\n",
       "      <td>11990.0</td>\n",
       "      <td>7350.0</td>\n",
       "      <td>3685.0</td>\n",
       "      <td>3287.0</td>\n",
       "      <td>6552.0</td>\n",
       "      <td>6045.0</td>\n",
       "      <td>5320.0</td>\n",
       "      <td>5403.0</td>\n",
       "      <td>5178.0</td>\n",
       "    </tr>\n",
       "    <tr>\n",
       "      <th>165</th>\n",
       "      <td>5777</td>\n",
       "      <td>8387.0</td>\n",
       "      <td>8065.0</td>\n",
       "      <td>5261.0</td>\n",
       "      <td>3747.0</td>\n",
       "      <td>6132.0</td>\n",
       "      <td>7842.0</td>\n",
       "      <td>8396.0</td>\n",
       "      <td>8897.0</td>\n",
       "      <td>4401.0</td>\n",
       "      <td>...</td>\n",
       "      <td>4980.0</td>\n",
       "      <td>5719.0</td>\n",
       "      <td>11990.0</td>\n",
       "      <td>7350.0</td>\n",
       "      <td>3685.0</td>\n",
       "      <td>3287.0</td>\n",
       "      <td>6552.0</td>\n",
       "      <td>6045.0</td>\n",
       "      <td>5320.0</td>\n",
       "      <td>5403.0</td>\n",
       "    </tr>\n",
       "    <tr>\n",
       "      <th>166</th>\n",
       "      <td>7033</td>\n",
       "      <td>5777.0</td>\n",
       "      <td>8387.0</td>\n",
       "      <td>8065.0</td>\n",
       "      <td>5261.0</td>\n",
       "      <td>3747.0</td>\n",
       "      <td>6132.0</td>\n",
       "      <td>7842.0</td>\n",
       "      <td>8396.0</td>\n",
       "      <td>8897.0</td>\n",
       "      <td>...</td>\n",
       "      <td>4139.0</td>\n",
       "      <td>4980.0</td>\n",
       "      <td>5719.0</td>\n",
       "      <td>11990.0</td>\n",
       "      <td>7350.0</td>\n",
       "      <td>3685.0</td>\n",
       "      <td>3287.0</td>\n",
       "      <td>6552.0</td>\n",
       "      <td>6045.0</td>\n",
       "      <td>5320.0</td>\n",
       "    </tr>\n",
       "    <tr>\n",
       "      <th>167</th>\n",
       "      <td>10539</td>\n",
       "      <td>7033.0</td>\n",
       "      <td>5777.0</td>\n",
       "      <td>8387.0</td>\n",
       "      <td>8065.0</td>\n",
       "      <td>5261.0</td>\n",
       "      <td>3747.0</td>\n",
       "      <td>6132.0</td>\n",
       "      <td>7842.0</td>\n",
       "      <td>8396.0</td>\n",
       "      <td>...</td>\n",
       "      <td>4294.0</td>\n",
       "      <td>4139.0</td>\n",
       "      <td>4980.0</td>\n",
       "      <td>5719.0</td>\n",
       "      <td>11990.0</td>\n",
       "      <td>7350.0</td>\n",
       "      <td>3685.0</td>\n",
       "      <td>3287.0</td>\n",
       "      <td>6552.0</td>\n",
       "      <td>6045.0</td>\n",
       "    </tr>\n",
       "    <tr>\n",
       "      <th>168</th>\n",
       "      <td>6516</td>\n",
       "      <td>10539.0</td>\n",
       "      <td>7033.0</td>\n",
       "      <td>5777.0</td>\n",
       "      <td>8387.0</td>\n",
       "      <td>8065.0</td>\n",
       "      <td>5261.0</td>\n",
       "      <td>3747.0</td>\n",
       "      <td>6132.0</td>\n",
       "      <td>7842.0</td>\n",
       "      <td>...</td>\n",
       "      <td>4507.0</td>\n",
       "      <td>4294.0</td>\n",
       "      <td>4139.0</td>\n",
       "      <td>4980.0</td>\n",
       "      <td>5719.0</td>\n",
       "      <td>11990.0</td>\n",
       "      <td>7350.0</td>\n",
       "      <td>3685.0</td>\n",
       "      <td>3287.0</td>\n",
       "      <td>6552.0</td>\n",
       "    </tr>\n",
       "  </tbody>\n",
       "</table>\n",
       "<p>142 rows × 40 columns</p>\n",
       "</div>"
      ],
      "text/plain": [
       "      Envi      x_1      x_2      x_3      x_4      x_5      x_6      x_7   \n",
       "27    9772   9787.0  10715.0   9953.0  11489.0  11956.0  11232.0  13289.0  \\\n",
       "28    9847   9772.0   9787.0  10715.0   9953.0  11489.0  11956.0  11232.0   \n",
       "29    9086   9847.0   9772.0   9787.0  10715.0   9953.0  11489.0  11956.0   \n",
       "30   10555   9086.0   9847.0   9772.0   9787.0  10715.0   9953.0  11489.0   \n",
       "31   12491  10555.0   9086.0   9847.0   9772.0   9787.0  10715.0   9953.0   \n",
       "..     ...      ...      ...      ...      ...      ...      ...      ...   \n",
       "164   8387   8065.0   5261.0   3747.0   6132.0   7842.0   8396.0   8897.0   \n",
       "165   5777   8387.0   8065.0   5261.0   3747.0   6132.0   7842.0   8396.0   \n",
       "166   7033   5777.0   8387.0   8065.0   5261.0   3747.0   6132.0   7842.0   \n",
       "167  10539   7033.0   5777.0   8387.0   8065.0   5261.0   3747.0   6132.0   \n",
       "168   6516  10539.0   7033.0   5777.0   8387.0   8065.0   5261.0   3747.0   \n",
       "\n",
       "         x_8      x_9  ...      y_4      y_5      y_6      y_7      y_8   \n",
       "27   19912.0  19400.0  ...  34792.0  15769.0   4987.0   2347.0   3018.0  \\\n",
       "28   13289.0  19912.0  ...  27916.0  34792.0  15769.0   4987.0   2347.0   \n",
       "29   11232.0  13289.0  ...   9366.0  27916.0  34792.0  15769.0   4987.0   \n",
       "30   11956.0  11232.0  ...   5456.0   9366.0  27916.0  34792.0  15769.0   \n",
       "31   11489.0  11956.0  ...   8697.0   5456.0   9366.0  27916.0  34792.0   \n",
       "..       ...      ...  ...      ...      ...      ...      ...      ...   \n",
       "164   4401.0   6227.0  ...   5719.0  11990.0   7350.0   3685.0   3287.0   \n",
       "165   8897.0   4401.0  ...   4980.0   5719.0  11990.0   7350.0   3685.0   \n",
       "166   8396.0   8897.0  ...   4139.0   4980.0   5719.0  11990.0   7350.0   \n",
       "167   7842.0   8396.0  ...   4294.0   4139.0   4980.0   5719.0  11990.0   \n",
       "168   6132.0   7842.0  ...   4507.0   4294.0   4139.0   4980.0   5719.0   \n",
       "\n",
       "         y_9    y_10    y_11    y_12    y_13  \n",
       "27    4824.0  4271.0  5475.0  8856.0  3199.0  \n",
       "28    3018.0  4824.0  4271.0  5475.0  8856.0  \n",
       "29    2347.0  3018.0  4824.0  4271.0  5475.0  \n",
       "30    4987.0  2347.0  3018.0  4824.0  4271.0  \n",
       "31   15769.0  4987.0  2347.0  3018.0  4824.0  \n",
       "..       ...     ...     ...     ...     ...  \n",
       "164   6552.0  6045.0  5320.0  5403.0  5178.0  \n",
       "165   3287.0  6552.0  6045.0  5320.0  5403.0  \n",
       "166   3685.0  3287.0  6552.0  6045.0  5320.0  \n",
       "167   7350.0  3685.0  3287.0  6552.0  6045.0  \n",
       "168  11990.0  7350.0  3685.0  3287.0  6552.0  \n",
       "\n",
       "[142 rows x 40 columns]"
      ]
     },
     "execution_count": 5,
     "metadata": {},
     "output_type": "execute_result"
    }
   ],
   "source": [
    "seq_df = window_input_output(26, 14, data)\n",
    "seq_df"
   ]
  },
  {
   "cell_type": "markdown",
   "metadata": {
    "id": "sxvJS_dTL0aA"
   },
   "source": [
    "# Split Data\n"
   ]
  },
  {
   "cell_type": "code",
   "execution_count": 6,
   "metadata": {
    "id": "bc_qK8kZL2rm"
   },
   "outputs": [],
   "source": [
    "X_cols = [col for col in seq_df.columns if col.startswith('x')]\n",
    "X_cols.insert(0, 'Envi')\n",
    "y_cols = [col for col in seq_df.columns if col.startswith('y')]\n",
    "\n",
    "X = seq_df[X_cols]\n",
    "y = seq_df[y_cols]\n",
    "\n",
    "X_train, X_test, y_train, y_test = train_test_split(X, y, test_size=0.2, shuffle=False, random_state=123)"
   ]
  },
  {
   "cell_type": "code",
   "execution_count": 7,
   "metadata": {
    "id": "ZqdM3aHwL5wj"
   },
   "outputs": [],
   "source": [
    "params = {\n",
    "    'criterion': ['squared_error', 'friedman_mse', 'absolute_error', 'poisson'],\n",
    "    'splitter': ['best', 'random'],\n",
    "    'max_features': ['sqrt', 'log2'],\n",
    "    'max_depth': [3, 5, 7, 9, 11, 13],\n",
    "    'min_samples_split': [2, 4, 6, 8, 10],\n",
    "    'min_samples_leaf': [1, 2, 3, 4, 5],\n",
    "    'ccp_alpha': [0.1, 0.01, 0.001]\n",
    "}\n",
    "\n",
    "tree = DecisionTreeRegressor()\n",
    "\n",
    "gs = GridSearchCV(estimator=tree, param_grid=params, cv=5, n_jobs=-1)\n",
    "gs.fit(X_train, y_train)\n",
    "\n",
    "model = gs.best_estimator_\n",
    "\n",
    "y_pred = model.predict(X_test)"
   ]
  },
  {
   "cell_type": "markdown",
   "metadata": {
    "id": "slJFOo_YRuWw"
   },
   "source": [
    "# Score"
   ]
  },
  {
   "cell_type": "code",
   "execution_count": 8,
   "metadata": {
    "colab": {
     "base_uri": "https://localhost:8080/"
    },
    "id": "kLipYfq1L9Tp",
    "outputId": "9c6d70bb-d5bd-48ba-cd2d-1d68c227561b"
   },
   "outputs": [
    {
     "name": "stdout",
     "output_type": "stream",
     "text": [
      "Mean Squared Error (Envi): 73038980.00598915\n",
      "Mean Absolute Error (Envi): 5664.901957648262\n",
      "R-squared (Test score) -0.36850758171049675\n",
      "Train score 0.3893210685439195\n"
     ]
    }
   ],
   "source": [
    "mse = mean_squared_error(y_test, y_pred)\n",
    "print(f\"Mean Squared Error (Envi):\", mse)\n",
    "mae = mean_absolute_error(y_test, y_pred)\n",
    "print(f\"Mean Absolute Error (Envi):\", mae)\n",
    "\n",
    "print(\"R-squared (Test score)\", model.score(X_test, y_test))\n",
    "print(\"Train score\", model.score(X_train, y_train))"
   ]
  },
  {
   "cell_type": "markdown",
   "metadata": {
    "id": "RbElRzxvSJiS"
   },
   "source": [
    "# Visualization"
   ]
  },
  {
   "cell_type": "code",
   "execution_count": 9,
   "metadata": {
    "colab": {
     "base_uri": "https://localhost:8080/",
     "height": 407
    },
    "id": "CfJRUZIsMk0_",
    "outputId": "4738a1a1-8f08-4385-cc08-41beb4204d68"
   },
   "outputs": [
    {
     "data": {
      "image/png": "[encoded data removed]",
      "text/plain": [
       "<Figure size 432x288 with 1 Axes>"
      ]
     },
     "metadata": {
      "needs_background": "light"
     },
     "output_type": "display_data"
    }
   ],
   "source": [
    "X_test_array = X_test.to_numpy()\n",
    "y_test_array = y_test.to_numpy()\n",
    "\n",
    "fig, ax = plt.subplots(figsize=(6, 4))\n",
    "\n",
    "ax.plot(np.arange(0, 26, 1), X_test_array[1], 'b-', label='Input')\n",
    "ax.plot(np.arange(14, 28, 1), y_test_array[1], color='yellow', label='Actual', linewidth=2)\n",
    "ax.plot(np.arange(14, 28, 1), y_pred[1], color='green', label='Predicted', linestyle='--')\n",
    "\n",
    "ax.set_xlabel('timesteps')\n",
    "ax.set_ylabel('Quantity')\n",
    "plt.grid(True)\n",
    "plt.legend(loc=2)\n",
    "fig.autofmt_xdate()\n",
    "plt.tight_layout()\n",
    "plt.show()"
   ]
  },
  {
   "cell_type": "code",
   "execution_count": 10,
   "metadata": {
    "colab": {
     "base_uri": "https://localhost:8080/",
     "height": 449
    },
    "id": "8ot7BG1LMowT",
    "outputId": "3a635813-5a3a-46fc-9d4d-038baf72002c"
   },
   "outputs": [
    {
     "data": {
      "image/png": "[encoded data removed]",
      "text/plain": [
       "<Figure size 432x288 with 1 Axes>"
      ]
     },
     "metadata": {
      "needs_background": "light"
     },
     "output_type": "display_data"
    }
   ],
   "source": [
    "for i, col in enumerate(y_test.columns):\n",
    "    sns.scatterplot(x=y_test[col], y=y_pred[:, i])\n",
    "\n",
    "    max_val = max(y_test.max().max(), y_pred.max().max())\n",
    "    plt.plot([0, max_val], [0, max_val], color='black', linestyle='--')"
   ]
  }
 ],
 "metadata": {
  "colab": {
   "provenance": []
  },
  "kernelspec": {
   "display_name": "Python 3",
   "language": "python",
   "name": "python3"
  },
  "language_info": {
   "codemirror_mode": {
    "name": "ipython",
    "version": 3
   },
   "file_extension": ".py",
   "mimetype": "text/x-python",
   "name": "python",
   "nbconvert_exporter": "python",
   "pygments_lexer": "ipython3",
   "version": "3.8.3"
  },
  "vscode": {
   "interpreter": {
    "hash": "ffbfc792e496a15b6b750fac43e7a9afdc7c26545a7abda9dc172ad3cb978227"
   }
  }
 },
 "nbformat": 4,
 "nbformat_minor": 4
}

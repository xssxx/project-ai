{
 "cells": [
  {
   "cell_type": "code",
   "execution_count": 28,
   "metadata": {
    "id": "3GtDpknyAOfs"
   },
   "outputs": [],
   "source": [
    "import sys\n",
    "sys.path.append('../../')\n",
    "from helpers.window import window_input_output"
   ]
  },
  {
   "cell_type": "code",
   "execution_count": 29,
   "metadata": {
    "id": "zlVuC9P66_Iu"
   },
   "outputs": [],
   "source": [
    "import pandas as pd\n",
    "import numpy as np\n",
    "import matplotlib.pyplot as plt\n",
    "import seaborn as sns\n",
    "from sklearn.tree import DecisionTreeRegressor\n",
    "from sklearn.model_selection import train_test_split, GridSearchCV\n",
    "from sklearn.metrics import mean_absolute_error, mean_squared_error"
   ]
  },
  {
   "cell_type": "markdown",
   "metadata": {
    "id": "F-4sPDEz-B5b"
   },
   "source": [
    "# Import data"
   ]
  },
  {
   "cell_type": "code",
   "execution_count": 30,
   "metadata": {
    "colab": {
     "base_uri": "https://localhost:8080/",
     "height": 206
    },
    "id": "VZqHlm7u9UYe",
    "outputId": "4e5cf7ab-58d9-4648-bfc5-97dc12af7757"
   },
   "outputs": [
    {
     "data": {
      "text/html": [
       "<div>\n",
       "<style scoped>\n",
       "    .dataframe tbody tr th:only-of-type {\n",
       "        vertical-align: middle;\n",
       "    }\n",
       "\n",
       "    .dataframe tbody tr th {\n",
       "        vertical-align: top;\n",
       "    }\n",
       "\n",
       "    .dataframe thead th {\n",
       "        text-align: right;\n",
       "    }\n",
       "</style>\n",
       "<table border=\"1\" class=\"dataframe\">\n",
       "  <thead>\n",
       "    <tr style=\"text-align: right;\">\n",
       "      <th></th>\n",
       "      <th>Date</th>\n",
       "      <th>Envi</th>\n",
       "      <th>Fuji</th>\n",
       "      <th>Gala</th>\n",
       "    </tr>\n",
       "  </thead>\n",
       "  <tbody>\n",
       "    <tr>\n",
       "      <th>0</th>\n",
       "      <td>2015-01-04</td>\n",
       "      <td>117454</td>\n",
       "      <td>429518</td>\n",
       "      <td>5554</td>\n",
       "    </tr>\n",
       "    <tr>\n",
       "      <th>1</th>\n",
       "      <td>2015-01-11</td>\n",
       "      <td>110974</td>\n",
       "      <td>427723</td>\n",
       "      <td>5358</td>\n",
       "    </tr>\n",
       "    <tr>\n",
       "      <th>2</th>\n",
       "      <td>2015-01-18</td>\n",
       "      <td>151977</td>\n",
       "      <td>500684</td>\n",
       "      <td>4225</td>\n",
       "    </tr>\n",
       "    <tr>\n",
       "      <th>3</th>\n",
       "      <td>2015-01-25</td>\n",
       "      <td>140914</td>\n",
       "      <td>422435</td>\n",
       "      <td>4945</td>\n",
       "    </tr>\n",
       "    <tr>\n",
       "      <th>4</th>\n",
       "      <td>2015-02-01</td>\n",
       "      <td>217716</td>\n",
       "      <td>608156</td>\n",
       "      <td>5736</td>\n",
       "    </tr>\n",
       "  </tbody>\n",
       "</table>\n",
       "</div>"
      ],
      "text/plain": [
       "         Date    Envi    Fuji  Gala\n",
       "0  2015-01-04  117454  429518  5554\n",
       "1  2015-01-11  110974  427723  5358\n",
       "2  2015-01-18  151977  500684  4225\n",
       "3  2015-01-25  140914  422435  4945\n",
       "4  2015-02-01  217716  608156  5736"
      ]
     },
     "execution_count": 30,
     "metadata": {},
     "output_type": "execute_result"
    }
   ],
   "source": [
    "df = pd.read_csv('../../datasets/Conventional.csv')\n",
    "df.head()"
   ]
  },
  {
   "cell_type": "code",
   "execution_count": 31,
   "metadata": {
    "colab": {
     "base_uri": "https://localhost:8080/",
     "height": 452
    },
    "id": "beUo_j8C99Jy",
    "outputId": "b78e6e80-5699-47c6-c061-92889a662161"
   },
   "outputs": [
    {
     "data": {
      "image/png": "[encoded data removed]",
      "text/plain": [
       "<Figure size 640x480 with 1 Axes>"
      ]
     },
     "metadata": {},
     "output_type": "display_data"
    }
   ],
   "source": [
    "data = df[['Gala']]\n",
    "data.hist();"
   ]
  },
  {
   "cell_type": "code",
   "execution_count": 32,
   "metadata": {
    "colab": {
     "base_uri": "https://localhost:8080/",
     "height": 443
    },
    "id": "tlSLMtvnEnTo",
    "outputId": "5fc869d3-4c00-4520-a684-3ba778e91a5e"
   },
   "outputs": [
    {
     "data": {
      "text/html": [
       "<div>\n",
       "<style scoped>\n",
       "    .dataframe tbody tr th:only-of-type {\n",
       "        vertical-align: middle;\n",
       "    }\n",
       "\n",
       "    .dataframe tbody tr th {\n",
       "        vertical-align: top;\n",
       "    }\n",
       "\n",
       "    .dataframe thead th {\n",
       "        text-align: right;\n",
       "    }\n",
       "</style>\n",
       "<table border=\"1\" class=\"dataframe\">\n",
       "  <thead>\n",
       "    <tr style=\"text-align: right;\">\n",
       "      <th></th>\n",
       "      <th>Gala</th>\n",
       "      <th>x_1</th>\n",
       "      <th>x_2</th>\n",
       "      <th>x_3</th>\n",
       "      <th>x_4</th>\n",
       "      <th>x_5</th>\n",
       "      <th>x_6</th>\n",
       "      <th>x_7</th>\n",
       "      <th>x_8</th>\n",
       "      <th>x_9</th>\n",
       "      <th>...</th>\n",
       "      <th>y_4</th>\n",
       "      <th>y_5</th>\n",
       "      <th>y_6</th>\n",
       "      <th>y_7</th>\n",
       "      <th>y_8</th>\n",
       "      <th>y_9</th>\n",
       "      <th>y_10</th>\n",
       "      <th>y_11</th>\n",
       "      <th>y_12</th>\n",
       "      <th>y_13</th>\n",
       "    </tr>\n",
       "  </thead>\n",
       "  <tbody>\n",
       "    <tr>\n",
       "      <th>27</th>\n",
       "      <td>22068</td>\n",
       "      <td>19547.0</td>\n",
       "      <td>18450.0</td>\n",
       "      <td>12854.0</td>\n",
       "      <td>17694.0</td>\n",
       "      <td>17507.0</td>\n",
       "      <td>18725.0</td>\n",
       "      <td>18818.0</td>\n",
       "      <td>17378.0</td>\n",
       "      <td>16724.0</td>\n",
       "      <td>...</td>\n",
       "      <td>7265.0</td>\n",
       "      <td>5507.0</td>\n",
       "      <td>5686.0</td>\n",
       "      <td>7798.0</td>\n",
       "      <td>5421.0</td>\n",
       "      <td>5736.0</td>\n",
       "      <td>4945.0</td>\n",
       "      <td>4225.0</td>\n",
       "      <td>5358.0</td>\n",
       "      <td>5554.0</td>\n",
       "    </tr>\n",
       "    <tr>\n",
       "      <th>28</th>\n",
       "      <td>17089</td>\n",
       "      <td>22068.0</td>\n",
       "      <td>19547.0</td>\n",
       "      <td>18450.0</td>\n",
       "      <td>12854.0</td>\n",
       "      <td>17694.0</td>\n",
       "      <td>17507.0</td>\n",
       "      <td>18725.0</td>\n",
       "      <td>18818.0</td>\n",
       "      <td>17378.0</td>\n",
       "      <td>...</td>\n",
       "      <td>5122.0</td>\n",
       "      <td>7265.0</td>\n",
       "      <td>5507.0</td>\n",
       "      <td>5686.0</td>\n",
       "      <td>7798.0</td>\n",
       "      <td>5421.0</td>\n",
       "      <td>5736.0</td>\n",
       "      <td>4945.0</td>\n",
       "      <td>4225.0</td>\n",
       "      <td>5358.0</td>\n",
       "    </tr>\n",
       "    <tr>\n",
       "      <th>29</th>\n",
       "      <td>25778</td>\n",
       "      <td>17089.0</td>\n",
       "      <td>22068.0</td>\n",
       "      <td>19547.0</td>\n",
       "      <td>18450.0</td>\n",
       "      <td>12854.0</td>\n",
       "      <td>17694.0</td>\n",
       "      <td>17507.0</td>\n",
       "      <td>18725.0</td>\n",
       "      <td>18818.0</td>\n",
       "      <td>...</td>\n",
       "      <td>8461.0</td>\n",
       "      <td>5122.0</td>\n",
       "      <td>7265.0</td>\n",
       "      <td>5507.0</td>\n",
       "      <td>5686.0</td>\n",
       "      <td>7798.0</td>\n",
       "      <td>5421.0</td>\n",
       "      <td>5736.0</td>\n",
       "      <td>4945.0</td>\n",
       "      <td>4225.0</td>\n",
       "    </tr>\n",
       "    <tr>\n",
       "      <th>30</th>\n",
       "      <td>16711</td>\n",
       "      <td>25778.0</td>\n",
       "      <td>17089.0</td>\n",
       "      <td>22068.0</td>\n",
       "      <td>19547.0</td>\n",
       "      <td>18450.0</td>\n",
       "      <td>12854.0</td>\n",
       "      <td>17694.0</td>\n",
       "      <td>17507.0</td>\n",
       "      <td>18725.0</td>\n",
       "      <td>...</td>\n",
       "      <td>4760.0</td>\n",
       "      <td>8461.0</td>\n",
       "      <td>5122.0</td>\n",
       "      <td>7265.0</td>\n",
       "      <td>5507.0</td>\n",
       "      <td>5686.0</td>\n",
       "      <td>7798.0</td>\n",
       "      <td>5421.0</td>\n",
       "      <td>5736.0</td>\n",
       "      <td>4945.0</td>\n",
       "    </tr>\n",
       "    <tr>\n",
       "      <th>31</th>\n",
       "      <td>24026</td>\n",
       "      <td>16711.0</td>\n",
       "      <td>25778.0</td>\n",
       "      <td>17089.0</td>\n",
       "      <td>22068.0</td>\n",
       "      <td>19547.0</td>\n",
       "      <td>18450.0</td>\n",
       "      <td>12854.0</td>\n",
       "      <td>17694.0</td>\n",
       "      <td>17507.0</td>\n",
       "      <td>...</td>\n",
       "      <td>6309.0</td>\n",
       "      <td>4760.0</td>\n",
       "      <td>8461.0</td>\n",
       "      <td>5122.0</td>\n",
       "      <td>7265.0</td>\n",
       "      <td>5507.0</td>\n",
       "      <td>5686.0</td>\n",
       "      <td>7798.0</td>\n",
       "      <td>5421.0</td>\n",
       "      <td>5736.0</td>\n",
       "    </tr>\n",
       "    <tr>\n",
       "      <th>...</th>\n",
       "      <td>...</td>\n",
       "      <td>...</td>\n",
       "      <td>...</td>\n",
       "      <td>...</td>\n",
       "      <td>...</td>\n",
       "      <td>...</td>\n",
       "      <td>...</td>\n",
       "      <td>...</td>\n",
       "      <td>...</td>\n",
       "      <td>...</td>\n",
       "      <td>...</td>\n",
       "      <td>...</td>\n",
       "      <td>...</td>\n",
       "      <td>...</td>\n",
       "      <td>...</td>\n",
       "      <td>...</td>\n",
       "      <td>...</td>\n",
       "      <td>...</td>\n",
       "      <td>...</td>\n",
       "      <td>...</td>\n",
       "      <td>...</td>\n",
       "    </tr>\n",
       "    <tr>\n",
       "      <th>164</th>\n",
       "      <td>14153</td>\n",
       "      <td>12930.0</td>\n",
       "      <td>13754.0</td>\n",
       "      <td>11698.0</td>\n",
       "      <td>9804.0</td>\n",
       "      <td>14834.0</td>\n",
       "      <td>11964.0</td>\n",
       "      <td>14102.0</td>\n",
       "      <td>8951.0</td>\n",
       "      <td>11714.0</td>\n",
       "      <td>...</td>\n",
       "      <td>6360.0</td>\n",
       "      <td>711.0</td>\n",
       "      <td>178.0</td>\n",
       "      <td>198.0</td>\n",
       "      <td>192.0</td>\n",
       "      <td>2422.0</td>\n",
       "      <td>12806.0</td>\n",
       "      <td>13836.0</td>\n",
       "      <td>10440.0</td>\n",
       "      <td>13425.0</td>\n",
       "    </tr>\n",
       "    <tr>\n",
       "      <th>165</th>\n",
       "      <td>15527</td>\n",
       "      <td>14153.0</td>\n",
       "      <td>12930.0</td>\n",
       "      <td>13754.0</td>\n",
       "      <td>11698.0</td>\n",
       "      <td>9804.0</td>\n",
       "      <td>14834.0</td>\n",
       "      <td>11964.0</td>\n",
       "      <td>14102.0</td>\n",
       "      <td>8951.0</td>\n",
       "      <td>...</td>\n",
       "      <td>10872.0</td>\n",
       "      <td>6360.0</td>\n",
       "      <td>711.0</td>\n",
       "      <td>178.0</td>\n",
       "      <td>198.0</td>\n",
       "      <td>192.0</td>\n",
       "      <td>2422.0</td>\n",
       "      <td>12806.0</td>\n",
       "      <td>13836.0</td>\n",
       "      <td>10440.0</td>\n",
       "    </tr>\n",
       "    <tr>\n",
       "      <th>166</th>\n",
       "      <td>16599</td>\n",
       "      <td>15527.0</td>\n",
       "      <td>14153.0</td>\n",
       "      <td>12930.0</td>\n",
       "      <td>13754.0</td>\n",
       "      <td>11698.0</td>\n",
       "      <td>9804.0</td>\n",
       "      <td>14834.0</td>\n",
       "      <td>11964.0</td>\n",
       "      <td>14102.0</td>\n",
       "      <td>...</td>\n",
       "      <td>8618.0</td>\n",
       "      <td>10872.0</td>\n",
       "      <td>6360.0</td>\n",
       "      <td>711.0</td>\n",
       "      <td>178.0</td>\n",
       "      <td>198.0</td>\n",
       "      <td>192.0</td>\n",
       "      <td>2422.0</td>\n",
       "      <td>12806.0</td>\n",
       "      <td>13836.0</td>\n",
       "    </tr>\n",
       "    <tr>\n",
       "      <th>167</th>\n",
       "      <td>15484</td>\n",
       "      <td>16599.0</td>\n",
       "      <td>15527.0</td>\n",
       "      <td>14153.0</td>\n",
       "      <td>12930.0</td>\n",
       "      <td>13754.0</td>\n",
       "      <td>11698.0</td>\n",
       "      <td>9804.0</td>\n",
       "      <td>14834.0</td>\n",
       "      <td>11964.0</td>\n",
       "      <td>...</td>\n",
       "      <td>8942.0</td>\n",
       "      <td>8618.0</td>\n",
       "      <td>10872.0</td>\n",
       "      <td>6360.0</td>\n",
       "      <td>711.0</td>\n",
       "      <td>178.0</td>\n",
       "      <td>198.0</td>\n",
       "      <td>192.0</td>\n",
       "      <td>2422.0</td>\n",
       "      <td>12806.0</td>\n",
       "    </tr>\n",
       "    <tr>\n",
       "      <th>168</th>\n",
       "      <td>16541</td>\n",
       "      <td>15484.0</td>\n",
       "      <td>16599.0</td>\n",
       "      <td>15527.0</td>\n",
       "      <td>14153.0</td>\n",
       "      <td>12930.0</td>\n",
       "      <td>13754.0</td>\n",
       "      <td>11698.0</td>\n",
       "      <td>9804.0</td>\n",
       "      <td>14834.0</td>\n",
       "      <td>...</td>\n",
       "      <td>15425.0</td>\n",
       "      <td>8942.0</td>\n",
       "      <td>8618.0</td>\n",
       "      <td>10872.0</td>\n",
       "      <td>6360.0</td>\n",
       "      <td>711.0</td>\n",
       "      <td>178.0</td>\n",
       "      <td>198.0</td>\n",
       "      <td>192.0</td>\n",
       "      <td>2422.0</td>\n",
       "    </tr>\n",
       "  </tbody>\n",
       "</table>\n",
       "<p>142 rows × 28 columns</p>\n",
       "</div>"
      ],
      "text/plain": [
       "      Gala      x_1      x_2      x_3      x_4      x_5      x_6      x_7  \\\n",
       "27   22068  19547.0  18450.0  12854.0  17694.0  17507.0  18725.0  18818.0   \n",
       "28   17089  22068.0  19547.0  18450.0  12854.0  17694.0  17507.0  18725.0   \n",
       "29   25778  17089.0  22068.0  19547.0  18450.0  12854.0  17694.0  17507.0   \n",
       "30   16711  25778.0  17089.0  22068.0  19547.0  18450.0  12854.0  17694.0   \n",
       "31   24026  16711.0  25778.0  17089.0  22068.0  19547.0  18450.0  12854.0   \n",
       "..     ...      ...      ...      ...      ...      ...      ...      ...   \n",
       "164  14153  12930.0  13754.0  11698.0   9804.0  14834.0  11964.0  14102.0   \n",
       "165  15527  14153.0  12930.0  13754.0  11698.0   9804.0  14834.0  11964.0   \n",
       "166  16599  15527.0  14153.0  12930.0  13754.0  11698.0   9804.0  14834.0   \n",
       "167  15484  16599.0  15527.0  14153.0  12930.0  13754.0  11698.0   9804.0   \n",
       "168  16541  15484.0  16599.0  15527.0  14153.0  12930.0  13754.0  11698.0   \n",
       "\n",
       "         x_8      x_9  ...      y_4      y_5      y_6      y_7     y_8  \\\n",
       "27   17378.0  16724.0  ...   7265.0   5507.0   5686.0   7798.0  5421.0   \n",
       "28   18818.0  17378.0  ...   5122.0   7265.0   5507.0   5686.0  7798.0   \n",
       "29   18725.0  18818.0  ...   8461.0   5122.0   7265.0   5507.0  5686.0   \n",
       "30   17507.0  18725.0  ...   4760.0   8461.0   5122.0   7265.0  5507.0   \n",
       "31   17694.0  17507.0  ...   6309.0   4760.0   8461.0   5122.0  7265.0   \n",
       "..       ...      ...  ...      ...      ...      ...      ...     ...   \n",
       "164   8951.0  11714.0  ...   6360.0    711.0    178.0    198.0   192.0   \n",
       "165  14102.0   8951.0  ...  10872.0   6360.0    711.0    178.0   198.0   \n",
       "166  11964.0  14102.0  ...   8618.0  10872.0   6360.0    711.0   178.0   \n",
       "167  14834.0  11964.0  ...   8942.0   8618.0  10872.0   6360.0   711.0   \n",
       "168   9804.0  14834.0  ...  15425.0   8942.0   8618.0  10872.0  6360.0   \n",
       "\n",
       "        y_9     y_10     y_11     y_12     y_13  \n",
       "27   5736.0   4945.0   4225.0   5358.0   5554.0  \n",
       "28   5421.0   5736.0   4945.0   4225.0   5358.0  \n",
       "29   7798.0   5421.0   5736.0   4945.0   4225.0  \n",
       "30   5686.0   7798.0   5421.0   5736.0   4945.0  \n",
       "31   5507.0   5686.0   7798.0   5421.0   5736.0  \n",
       "..      ...      ...      ...      ...      ...  \n",
       "164  2422.0  12806.0  13836.0  10440.0  13425.0  \n",
       "165   192.0   2422.0  12806.0  13836.0  10440.0  \n",
       "166   198.0    192.0   2422.0  12806.0  13836.0  \n",
       "167   178.0    198.0    192.0   2422.0  12806.0  \n",
       "168   711.0    178.0    198.0    192.0   2422.0  \n",
       "\n",
       "[142 rows x 28 columns]"
      ]
     },
     "execution_count": 32,
     "metadata": {},
     "output_type": "execute_result"
    }
   ],
   "source": [
    "seq_df = window_input_output(14, 14, data)\n",
    "seq_df"
   ]
  },
  {
   "cell_type": "markdown",
   "metadata": {
    "id": "YXbYpYYk_YSv"
   },
   "source": [
    "# Split data"
   ]
  },
  {
   "cell_type": "code",
   "execution_count": 33,
   "metadata": {
    "id": "Z0WphHJZ_eSY"
   },
   "outputs": [],
   "source": [
    "X_cols = [col for col in seq_df.columns if col.startswith('x')]\n",
    "X_cols.insert(0, 'Gala')\n",
    "y_cols = [col for col in seq_df.columns if col.startswith('y')]\n",
    "\n",
    "X = seq_df[X_cols]\n",
    "y = seq_df[y_cols]\n",
    "\n",
    "X_train, X_test, y_train, y_test = train_test_split(X, y, test_size=0.2, shuffle=False, random_state=123)"
   ]
  },
  {
   "cell_type": "code",
   "execution_count": 34,
   "metadata": {
    "id": "x-_H7mmIE2yk"
   },
   "outputs": [],
   "source": [
    "params = {\n",
    "    'criterion': ['squared_error', 'friedman_mse', 'absolute_error', 'poisson'],\n",
    "    'splitter': ['best', 'random'],\n",
    "    'max_features': ['sqrt', 'log2'],\n",
    "    'max_depth': [3, 5, 7, 9, 11, 13],\n",
    "    'min_samples_split': [2, 4, 6, 8, 10],\n",
    "    'min_samples_leaf': [1, 2, 3, 4, 5],\n",
    "}\n",
    "\n",
    "tree = DecisionTreeRegressor()\n",
    "\n",
    "gs = GridSearchCV(estimator=tree, param_grid=params, cv=5, n_jobs=-1)\n",
    "gs.fit(X_train, y_train)\n",
    "\n",
    "model = gs.best_estimator_\n",
    "\n",
    "y_pred = model.predict(X_test)"
   ]
  },
  {
   "cell_type": "markdown",
   "metadata": {
    "id": "BBfK6jigFQbL"
   },
   "source": [
    "# Score"
   ]
  },
  {
   "cell_type": "code",
   "execution_count": 35,
   "metadata": {
    "colab": {
     "base_uri": "https://localhost:8080/"
    },
    "id": "oAB2P7PZFPAh",
    "outputId": "6718f464-0ea1-4141-f317-2904c5773367"
   },
   "outputs": [
    {
     "name": "stdout",
     "output_type": "stream",
     "text": [
      "Mean Squared Error (Gala): 74876777.34729065\n",
      "Mean Absolute Error (Gala): 6921.780788177341\n",
      "R-squared (Test score) -0.3184353636123149\n",
      "Train score 0.02128332319234796\n"
     ]
    }
   ],
   "source": [
    "mse = mean_squared_error(y_test, y_pred)\n",
    "print(f\"Mean Squared Error (Gala):\", mse)\n",
    "mae = mean_absolute_error(y_test, y_pred)\n",
    "print(f\"Mean Absolute Error (Gala):\", mae)\n",
    "\n",
    "print(\"R-squared (Test score)\", model.score(X_test, y_test))\n",
    "print(\"Train score\", model.score(X_train, y_train))"
   ]
  },
  {
   "cell_type": "markdown",
   "metadata": {
    "id": "zuOarclmFosM"
   },
   "source": [
    "# Visualization"
   ]
  },
  {
   "cell_type": "code",
   "execution_count": 36,
   "metadata": {
    "colab": {
     "base_uri": "https://localhost:8080/",
     "height": 407
    },
    "id": "pnrTdDKjFaII",
    "outputId": "d1d15d59-35f1-4354-ea25-ac8684e53ccd"
   },
   "outputs": [
    {
     "data": {
      "image/png": "[encoded data removed]",
      "text/plain": [
       "<Figure size 600x400 with 1 Axes>"
      ]
     },
     "metadata": {},
     "output_type": "display_data"
    }
   ],
   "source": [
    "X_test_array = X_test.to_numpy()\n",
    "y_test_array = y_test.to_numpy()\n",
    "\n",
    "fig, ax = plt.subplots(figsize=(6, 4))\n",
    "\n",
    "ax.plot(np.arange(0, 14, 1), X_test_array[1], 'b-', label='Input')\n",
    "ax.plot(np.arange(14, 28, 1), y_test_array[1], color='yellow', label='Actual', linewidth=2)\n",
    "ax.plot(np.arange(14, 28, 1), y_pred[1], color='green', label='Predicted', linestyle='--')\n",
    "\n",
    "ax.set_xlabel('timesteps')\n",
    "ax.set_ylabel('Quantity')\n",
    "plt.grid(True)\n",
    "plt.legend(loc=2)\n",
    "fig.autofmt_xdate()\n",
    "plt.tight_layout()\n",
    "plt.show()"
   ]
  }
 ],
 "metadata": {
  "colab": {
   "provenance": []
  },
  "kernelspec": {
   "display_name": "Python 3",
   "language": "python",
   "name": "python3"
  },
  "language_info": {
   "codemirror_mode": {
    "name": "ipython",
    "version": 3
   },
   "file_extension": ".py",
   "mimetype": "text/x-python",
   "name": "python",
   "nbconvert_exporter": "python",
   "pygments_lexer": "ipython3",
   "version": "3.11.5"
  }
 },
 "nbformat": 4,
 "nbformat_minor": 4
}

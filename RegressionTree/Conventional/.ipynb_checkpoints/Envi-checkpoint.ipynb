{
 "cells": [
  {
   "cell_type": "code",
   "execution_count": 1,
   "metadata": {
    "id": "3GtDpknyAOfs"
   },
   "outputs": [],
   "source": [
    "import sys\n",
    "sys.path.append('../../')\n",
    "from helpers.window import window_input_output"
   ]
  },
  {
   "cell_type": "code",
   "execution_count": 2,
   "metadata": {
    "id": "zlVuC9P66_Iu"
   },
   "outputs": [],
   "source": [
    "import pandas as pd\n",
    "import numpy as np\n",
    "import matplotlib.pyplot as plt\n",
    "import seaborn as sns\n",
    "from sklearn.tree import DecisionTreeRegressor\n",
    "from sklearn.model_selection import train_test_split, GridSearchCV\n",
    "from sklearn.metrics import mean_absolute_error, mean_squared_error"
   ]
  },
  {
   "cell_type": "markdown",
   "metadata": {
    "id": "F-4sPDEz-B5b"
   },
   "source": [
    "# Import data"
   ]
  },
  {
   "cell_type": "code",
   "execution_count": 3,
   "metadata": {
    "colab": {
     "base_uri": "https://localhost:8080/",
     "height": 206
    },
    "id": "VZqHlm7u9UYe",
    "outputId": "7ef78ae3-7227-4dda-955a-a8ee6fb1092c"
   },
   "outputs": [
    {
     "data": {
      "text/html": [
       "<div>\n",
       "<style scoped>\n",
       "    .dataframe tbody tr th:only-of-type {\n",
       "        vertical-align: middle;\n",
       "    }\n",
       "\n",
       "    .dataframe tbody tr th {\n",
       "        vertical-align: top;\n",
       "    }\n",
       "\n",
       "    .dataframe thead th {\n",
       "        text-align: right;\n",
       "    }\n",
       "</style>\n",
       "<table border=\"1\" class=\"dataframe\">\n",
       "  <thead>\n",
       "    <tr style=\"text-align: right;\">\n",
       "      <th></th>\n",
       "      <th>Date</th>\n",
       "      <th>Envi</th>\n",
       "      <th>Fuji</th>\n",
       "      <th>Gala</th>\n",
       "    </tr>\n",
       "  </thead>\n",
       "  <tbody>\n",
       "    <tr>\n",
       "      <th>0</th>\n",
       "      <td>2015-01-04</td>\n",
       "      <td>117454</td>\n",
       "      <td>429518</td>\n",
       "      <td>5554</td>\n",
       "    </tr>\n",
       "    <tr>\n",
       "      <th>1</th>\n",
       "      <td>2015-01-11</td>\n",
       "      <td>110974</td>\n",
       "      <td>427723</td>\n",
       "      <td>5358</td>\n",
       "    </tr>\n",
       "    <tr>\n",
       "      <th>2</th>\n",
       "      <td>2015-01-18</td>\n",
       "      <td>151977</td>\n",
       "      <td>500684</td>\n",
       "      <td>4225</td>\n",
       "    </tr>\n",
       "    <tr>\n",
       "      <th>3</th>\n",
       "      <td>2015-01-25</td>\n",
       "      <td>140914</td>\n",
       "      <td>422435</td>\n",
       "      <td>4945</td>\n",
       "    </tr>\n",
       "    <tr>\n",
       "      <th>4</th>\n",
       "      <td>2015-02-01</td>\n",
       "      <td>217716</td>\n",
       "      <td>608156</td>\n",
       "      <td>5736</td>\n",
       "    </tr>\n",
       "  </tbody>\n",
       "</table>\n",
       "</div>"
      ],
      "text/plain": [
       "         Date    Envi    Fuji  Gala\n",
       "0  2015-01-04  117454  429518  5554\n",
       "1  2015-01-11  110974  427723  5358\n",
       "2  2015-01-18  151977  500684  4225\n",
       "3  2015-01-25  140914  422435  4945\n",
       "4  2015-02-01  217716  608156  5736"
      ]
     },
     "execution_count": 3,
     "metadata": {},
     "output_type": "execute_result"
    }
   ],
   "source": [
    "df = pd.read_csv('../../datasets/Conventional.csv')\n",
    "df.head()"
   ]
  },
  {
   "cell_type": "code",
   "execution_count": 4,
   "metadata": {
    "colab": {
     "base_uri": "https://localhost:8080/",
     "height": 452
    },
    "id": "beUo_j8C99Jy",
    "outputId": "8c95c987-f49a-4e8a-c417-b629c770826d"
   },
   "outputs": [
    {
     "data": {
      "image/png": "[encoded data removed]",
      "text/plain": [
       "<Figure size 432x288 with 1 Axes>"
      ]
     },
     "metadata": {
      "needs_background": "light"
     },
     "output_type": "display_data"
    }
   ],
   "source": [
    "data = df[['Envi']]\n",
    "data.hist();"
   ]
  },
  {
   "cell_type": "code",
   "execution_count": 5,
   "metadata": {
    "colab": {
     "base_uri": "https://localhost:8080/",
     "height": 443
    },
    "id": "tlSLMtvnEnTo",
    "outputId": "6cadf2ac-9c1c-4110-a38e-6d6021cfa12e"
   },
   "outputs": [
    {
     "data": {
      "text/html": [
       "<div>\n",
       "<style scoped>\n",
       "    .dataframe tbody tr th:only-of-type {\n",
       "        vertical-align: middle;\n",
       "    }\n",
       "\n",
       "    .dataframe tbody tr th {\n",
       "        vertical-align: top;\n",
       "    }\n",
       "\n",
       "    .dataframe thead th {\n",
       "        text-align: right;\n",
       "    }\n",
       "</style>\n",
       "<table border=\"1\" class=\"dataframe\">\n",
       "  <thead>\n",
       "    <tr style=\"text-align: right;\">\n",
       "      <th></th>\n",
       "      <th>Envi</th>\n",
       "      <th>x_1</th>\n",
       "      <th>x_2</th>\n",
       "      <th>x_3</th>\n",
       "      <th>x_4</th>\n",
       "      <th>x_5</th>\n",
       "      <th>x_6</th>\n",
       "      <th>x_7</th>\n",
       "      <th>x_8</th>\n",
       "      <th>x_9</th>\n",
       "      <th>...</th>\n",
       "      <th>y_4</th>\n",
       "      <th>y_5</th>\n",
       "      <th>y_6</th>\n",
       "      <th>y_7</th>\n",
       "      <th>y_8</th>\n",
       "      <th>y_9</th>\n",
       "      <th>y_10</th>\n",
       "      <th>y_11</th>\n",
       "      <th>y_12</th>\n",
       "      <th>y_13</th>\n",
       "    </tr>\n",
       "  </thead>\n",
       "  <tbody>\n",
       "    <tr>\n",
       "      <th>27</th>\n",
       "      <td>123673</td>\n",
       "      <td>146171.0</td>\n",
       "      <td>162886.0</td>\n",
       "      <td>184206.0</td>\n",
       "      <td>194447.0</td>\n",
       "      <td>167992.0</td>\n",
       "      <td>127748.0</td>\n",
       "      <td>198187.0</td>\n",
       "      <td>156010.0</td>\n",
       "      <td>148763.0</td>\n",
       "      <td>...</td>\n",
       "      <td>118578.0</td>\n",
       "      <td>101528.0</td>\n",
       "      <td>153410.0</td>\n",
       "      <td>116908.0</td>\n",
       "      <td>153584.0</td>\n",
       "      <td>217716.0</td>\n",
       "      <td>140914.0</td>\n",
       "      <td>151977.0</td>\n",
       "      <td>110974.0</td>\n",
       "      <td>117454.0</td>\n",
       "    </tr>\n",
       "    <tr>\n",
       "      <th>28</th>\n",
       "      <td>119266</td>\n",
       "      <td>123673.0</td>\n",
       "      <td>146171.0</td>\n",
       "      <td>162886.0</td>\n",
       "      <td>184206.0</td>\n",
       "      <td>194447.0</td>\n",
       "      <td>167992.0</td>\n",
       "      <td>127748.0</td>\n",
       "      <td>198187.0</td>\n",
       "      <td>156010.0</td>\n",
       "      <td>...</td>\n",
       "      <td>160422.0</td>\n",
       "      <td>118578.0</td>\n",
       "      <td>101528.0</td>\n",
       "      <td>153410.0</td>\n",
       "      <td>116908.0</td>\n",
       "      <td>153584.0</td>\n",
       "      <td>217716.0</td>\n",
       "      <td>140914.0</td>\n",
       "      <td>151977.0</td>\n",
       "      <td>110974.0</td>\n",
       "    </tr>\n",
       "    <tr>\n",
       "      <th>29</th>\n",
       "      <td>138943</td>\n",
       "      <td>119266.0</td>\n",
       "      <td>123673.0</td>\n",
       "      <td>146171.0</td>\n",
       "      <td>162886.0</td>\n",
       "      <td>184206.0</td>\n",
       "      <td>194447.0</td>\n",
       "      <td>167992.0</td>\n",
       "      <td>127748.0</td>\n",
       "      <td>198187.0</td>\n",
       "      <td>...</td>\n",
       "      <td>131882.0</td>\n",
       "      <td>160422.0</td>\n",
       "      <td>118578.0</td>\n",
       "      <td>101528.0</td>\n",
       "      <td>153410.0</td>\n",
       "      <td>116908.0</td>\n",
       "      <td>153584.0</td>\n",
       "      <td>217716.0</td>\n",
       "      <td>140914.0</td>\n",
       "      <td>151977.0</td>\n",
       "    </tr>\n",
       "    <tr>\n",
       "      <th>30</th>\n",
       "      <td>153499</td>\n",
       "      <td>138943.0</td>\n",
       "      <td>119266.0</td>\n",
       "      <td>123673.0</td>\n",
       "      <td>146171.0</td>\n",
       "      <td>162886.0</td>\n",
       "      <td>184206.0</td>\n",
       "      <td>194447.0</td>\n",
       "      <td>167992.0</td>\n",
       "      <td>127748.0</td>\n",
       "      <td>...</td>\n",
       "      <td>160679.0</td>\n",
       "      <td>131882.0</td>\n",
       "      <td>160422.0</td>\n",
       "      <td>118578.0</td>\n",
       "      <td>101528.0</td>\n",
       "      <td>153410.0</td>\n",
       "      <td>116908.0</td>\n",
       "      <td>153584.0</td>\n",
       "      <td>217716.0</td>\n",
       "      <td>140914.0</td>\n",
       "    </tr>\n",
       "    <tr>\n",
       "      <th>31</th>\n",
       "      <td>131770</td>\n",
       "      <td>153499.0</td>\n",
       "      <td>138943.0</td>\n",
       "      <td>119266.0</td>\n",
       "      <td>123673.0</td>\n",
       "      <td>146171.0</td>\n",
       "      <td>162886.0</td>\n",
       "      <td>184206.0</td>\n",
       "      <td>194447.0</td>\n",
       "      <td>167992.0</td>\n",
       "      <td>...</td>\n",
       "      <td>156967.0</td>\n",
       "      <td>160679.0</td>\n",
       "      <td>131882.0</td>\n",
       "      <td>160422.0</td>\n",
       "      <td>118578.0</td>\n",
       "      <td>101528.0</td>\n",
       "      <td>153410.0</td>\n",
       "      <td>116908.0</td>\n",
       "      <td>153584.0</td>\n",
       "      <td>217716.0</td>\n",
       "    </tr>\n",
       "    <tr>\n",
       "      <th>...</th>\n",
       "      <td>...</td>\n",
       "      <td>...</td>\n",
       "      <td>...</td>\n",
       "      <td>...</td>\n",
       "      <td>...</td>\n",
       "      <td>...</td>\n",
       "      <td>...</td>\n",
       "      <td>...</td>\n",
       "      <td>...</td>\n",
       "      <td>...</td>\n",
       "      <td>...</td>\n",
       "      <td>...</td>\n",
       "      <td>...</td>\n",
       "      <td>...</td>\n",
       "      <td>...</td>\n",
       "      <td>...</td>\n",
       "      <td>...</td>\n",
       "      <td>...</td>\n",
       "      <td>...</td>\n",
       "      <td>...</td>\n",
       "      <td>...</td>\n",
       "    </tr>\n",
       "    <tr>\n",
       "      <th>164</th>\n",
       "      <td>166753</td>\n",
       "      <td>159851.0</td>\n",
       "      <td>234996.0</td>\n",
       "      <td>234985.0</td>\n",
       "      <td>181752.0</td>\n",
       "      <td>147298.0</td>\n",
       "      <td>178992.0</td>\n",
       "      <td>184830.0</td>\n",
       "      <td>127053.0</td>\n",
       "      <td>142027.0</td>\n",
       "      <td>...</td>\n",
       "      <td>126274.0</td>\n",
       "      <td>126305.0</td>\n",
       "      <td>133463.0</td>\n",
       "      <td>114291.0</td>\n",
       "      <td>125320.0</td>\n",
       "      <td>150992.0</td>\n",
       "      <td>114530.0</td>\n",
       "      <td>122403.0</td>\n",
       "      <td>122874.0</td>\n",
       "      <td>113450.0</td>\n",
       "    </tr>\n",
       "    <tr>\n",
       "      <th>165</th>\n",
       "      <td>192776</td>\n",
       "      <td>166753.0</td>\n",
       "      <td>159851.0</td>\n",
       "      <td>234996.0</td>\n",
       "      <td>234985.0</td>\n",
       "      <td>181752.0</td>\n",
       "      <td>147298.0</td>\n",
       "      <td>178992.0</td>\n",
       "      <td>184830.0</td>\n",
       "      <td>127053.0</td>\n",
       "      <td>...</td>\n",
       "      <td>130556.0</td>\n",
       "      <td>126274.0</td>\n",
       "      <td>126305.0</td>\n",
       "      <td>133463.0</td>\n",
       "      <td>114291.0</td>\n",
       "      <td>125320.0</td>\n",
       "      <td>150992.0</td>\n",
       "      <td>114530.0</td>\n",
       "      <td>122403.0</td>\n",
       "      <td>122874.0</td>\n",
       "    </tr>\n",
       "    <tr>\n",
       "      <th>166</th>\n",
       "      <td>159389</td>\n",
       "      <td>192776.0</td>\n",
       "      <td>166753.0</td>\n",
       "      <td>159851.0</td>\n",
       "      <td>234996.0</td>\n",
       "      <td>234985.0</td>\n",
       "      <td>181752.0</td>\n",
       "      <td>147298.0</td>\n",
       "      <td>178992.0</td>\n",
       "      <td>184830.0</td>\n",
       "      <td>...</td>\n",
       "      <td>122061.0</td>\n",
       "      <td>130556.0</td>\n",
       "      <td>126274.0</td>\n",
       "      <td>126305.0</td>\n",
       "      <td>133463.0</td>\n",
       "      <td>114291.0</td>\n",
       "      <td>125320.0</td>\n",
       "      <td>150992.0</td>\n",
       "      <td>114530.0</td>\n",
       "      <td>122403.0</td>\n",
       "    </tr>\n",
       "    <tr>\n",
       "      <th>167</th>\n",
       "      <td>163394</td>\n",
       "      <td>159389.0</td>\n",
       "      <td>192776.0</td>\n",
       "      <td>166753.0</td>\n",
       "      <td>159851.0</td>\n",
       "      <td>234996.0</td>\n",
       "      <td>234985.0</td>\n",
       "      <td>181752.0</td>\n",
       "      <td>147298.0</td>\n",
       "      <td>178992.0</td>\n",
       "      <td>...</td>\n",
       "      <td>137872.0</td>\n",
       "      <td>122061.0</td>\n",
       "      <td>130556.0</td>\n",
       "      <td>126274.0</td>\n",
       "      <td>126305.0</td>\n",
       "      <td>133463.0</td>\n",
       "      <td>114291.0</td>\n",
       "      <td>125320.0</td>\n",
       "      <td>150992.0</td>\n",
       "      <td>114530.0</td>\n",
       "    </tr>\n",
       "    <tr>\n",
       "      <th>168</th>\n",
       "      <td>176287</td>\n",
       "      <td>163394.0</td>\n",
       "      <td>159389.0</td>\n",
       "      <td>192776.0</td>\n",
       "      <td>166753.0</td>\n",
       "      <td>159851.0</td>\n",
       "      <td>234996.0</td>\n",
       "      <td>234985.0</td>\n",
       "      <td>181752.0</td>\n",
       "      <td>147298.0</td>\n",
       "      <td>...</td>\n",
       "      <td>132242.0</td>\n",
       "      <td>137872.0</td>\n",
       "      <td>122061.0</td>\n",
       "      <td>130556.0</td>\n",
       "      <td>126274.0</td>\n",
       "      <td>126305.0</td>\n",
       "      <td>133463.0</td>\n",
       "      <td>114291.0</td>\n",
       "      <td>125320.0</td>\n",
       "      <td>150992.0</td>\n",
       "    </tr>\n",
       "  </tbody>\n",
       "</table>\n",
       "<p>142 rows × 40 columns</p>\n",
       "</div>"
      ],
      "text/plain": [
       "       Envi       x_1       x_2       x_3       x_4       x_5       x_6   \n",
       "27   123673  146171.0  162886.0  184206.0  194447.0  167992.0  127748.0  \\\n",
       "28   119266  123673.0  146171.0  162886.0  184206.0  194447.0  167992.0   \n",
       "29   138943  119266.0  123673.0  146171.0  162886.0  184206.0  194447.0   \n",
       "30   153499  138943.0  119266.0  123673.0  146171.0  162886.0  184206.0   \n",
       "31   131770  153499.0  138943.0  119266.0  123673.0  146171.0  162886.0   \n",
       "..      ...       ...       ...       ...       ...       ...       ...   \n",
       "164  166753  159851.0  234996.0  234985.0  181752.0  147298.0  178992.0   \n",
       "165  192776  166753.0  159851.0  234996.0  234985.0  181752.0  147298.0   \n",
       "166  159389  192776.0  166753.0  159851.0  234996.0  234985.0  181752.0   \n",
       "167  163394  159389.0  192776.0  166753.0  159851.0  234996.0  234985.0   \n",
       "168  176287  163394.0  159389.0  192776.0  166753.0  159851.0  234996.0   \n",
       "\n",
       "          x_7       x_8       x_9  ...       y_4       y_5       y_6   \n",
       "27   198187.0  156010.0  148763.0  ...  118578.0  101528.0  153410.0  \\\n",
       "28   127748.0  198187.0  156010.0  ...  160422.0  118578.0  101528.0   \n",
       "29   167992.0  127748.0  198187.0  ...  131882.0  160422.0  118578.0   \n",
       "30   194447.0  167992.0  127748.0  ...  160679.0  131882.0  160422.0   \n",
       "31   184206.0  194447.0  167992.0  ...  156967.0  160679.0  131882.0   \n",
       "..        ...       ...       ...  ...       ...       ...       ...   \n",
       "164  184830.0  127053.0  142027.0  ...  126274.0  126305.0  133463.0   \n",
       "165  178992.0  184830.0  127053.0  ...  130556.0  126274.0  126305.0   \n",
       "166  147298.0  178992.0  184830.0  ...  122061.0  130556.0  126274.0   \n",
       "167  181752.0  147298.0  178992.0  ...  137872.0  122061.0  130556.0   \n",
       "168  234985.0  181752.0  147298.0  ...  132242.0  137872.0  122061.0   \n",
       "\n",
       "          y_7       y_8       y_9      y_10      y_11      y_12      y_13  \n",
       "27   116908.0  153584.0  217716.0  140914.0  151977.0  110974.0  117454.0  \n",
       "28   153410.0  116908.0  153584.0  217716.0  140914.0  151977.0  110974.0  \n",
       "29   101528.0  153410.0  116908.0  153584.0  217716.0  140914.0  151977.0  \n",
       "30   118578.0  101528.0  153410.0  116908.0  153584.0  217716.0  140914.0  \n",
       "31   160422.0  118578.0  101528.0  153410.0  116908.0  153584.0  217716.0  \n",
       "..        ...       ...       ...       ...       ...       ...       ...  \n",
       "164  114291.0  125320.0  150992.0  114530.0  122403.0  122874.0  113450.0  \n",
       "165  133463.0  114291.0  125320.0  150992.0  114530.0  122403.0  122874.0  \n",
       "166  126305.0  133463.0  114291.0  125320.0  150992.0  114530.0  122403.0  \n",
       "167  126274.0  126305.0  133463.0  114291.0  125320.0  150992.0  114530.0  \n",
       "168  130556.0  126274.0  126305.0  133463.0  114291.0  125320.0  150992.0  \n",
       "\n",
       "[142 rows x 40 columns]"
      ]
     },
     "execution_count": 5,
     "metadata": {},
     "output_type": "execute_result"
    }
   ],
   "source": [
    "seq_df = window_input_output(26, 14, data)\n",
    "seq_df"
   ]
  },
  {
   "cell_type": "markdown",
   "metadata": {
    "id": "YXbYpYYk_YSv"
   },
   "source": [
    "# Split data"
   ]
  },
  {
   "cell_type": "code",
   "execution_count": 6,
   "metadata": {
    "id": "Z0WphHJZ_eSY"
   },
   "outputs": [],
   "source": [
    "X_cols = [col for col in seq_df.columns if col.startswith('x')]\n",
    "X_cols.insert(0, 'Envi')\n",
    "y_cols = [col for col in seq_df.columns if col.startswith('y')]\n",
    "\n",
    "X = seq_df[X_cols]\n",
    "y = seq_df[y_cols]\n",
    "\n",
    "X_train, X_test, y_train, y_test = train_test_split(X, y, test_size=0.2, shuffle=False, random_state=123)"
   ]
  },
  {
   "cell_type": "code",
   "execution_count": 11,
   "metadata": {
    "id": "x-_H7mmIE2yk"
   },
   "outputs": [
    {
     "ename": "AttributeError",
     "evalue": "'GridSearchCV' object has no attribute 'best_features_'",
     "output_type": "error",
     "traceback": [
      "\u001b[1;31m---------------------------------------------------------------------------\u001b[0m",
      "\u001b[1;31mAttributeError\u001b[0m                            Traceback (most recent call last)",
      "\u001b[1;32m<ipython-input-11-07c01195716c>\u001b[0m in \u001b[0;36m<module>\u001b[1;34m\u001b[0m\n\u001b[0;32m     16\u001b[0m \u001b[1;33m\u001b[0m\u001b[0m\n\u001b[0;32m     17\u001b[0m \u001b[0my_pred\u001b[0m \u001b[1;33m=\u001b[0m \u001b[0mmodel\u001b[0m\u001b[1;33m.\u001b[0m\u001b[0mpredict\u001b[0m\u001b[1;33m(\u001b[0m\u001b[0mX_test\u001b[0m\u001b[1;33m)\u001b[0m\u001b[1;33m\u001b[0m\u001b[1;33m\u001b[0m\u001b[0m\n\u001b[1;32m---> 18\u001b[1;33m \u001b[0mprint\u001b[0m\u001b[1;33m(\u001b[0m\u001b[0mgs\u001b[0m\u001b[1;33m.\u001b[0m\u001b[0mbest_features_\u001b[0m\u001b[1;33m)\u001b[0m\u001b[1;33m\u001b[0m\u001b[1;33m\u001b[0m\u001b[0m\n\u001b[0m",
      "\u001b[1;31mAttributeError\u001b[0m: 'GridSearchCV' object has no attribute 'best_features_'"
     ]
    }
   ],
   "source": [
    "params = {\n",
    "    'criterion': ['squared_error', 'friedman_mse', 'absolute_error', 'poisson'],\n",
    "    'splitter': ['best', 'random'],\n",
    "    'max_features': ['sqrt', 'log2'],\n",
    "    'max_depth': [3, 5, 7, 9, 11, 13],\n",
    "    'min_samples_split': [2, 4, 6, 8, 10],\n",
    "    'min_samples_leaf': [1, 2, 3, 4, 5],\n",
    "}\n",
    "\n",
    "tree = DecisionTreeRegressor()\n",
    "\n",
    "gs = GridSearchCV(estimator=tree, param_grid=params, cv=5, n_jobs=-1)\n",
    "gs.fit(X_train, y_train)\n",
    "\n",
    "model = gs.best_estimator_\n",
    "\n",
    "y_pred = model.predict(X_test)"
   ]
  },
  {
   "cell_type": "markdown",
   "metadata": {
    "id": "BBfK6jigFQbL"
   },
   "source": [
    "# Score"
   ]
  },
  {
   "cell_type": "code",
   "execution_count": 8,
   "metadata": {
    "colab": {
     "base_uri": "https://localhost:8080/"
    },
    "id": "oAB2P7PZFPAh",
    "outputId": "e4b9c14f-1efb-46a1-e38e-0a3173642c42"
   },
   "outputs": [
    {
     "name": "stdout",
     "output_type": "stream",
     "text": [
      "Mean Squared Error (Envi): 650720144.4376643\n",
      "Mean Absolute Error (Envi): 20988.868717345875\n",
      "R-squared (Test score) -0.19172881902457067\n",
      "Train score 0.3397353220771926\n"
     ]
    }
   ],
   "source": [
    "mse = mean_squared_error(y_test, y_pred)\n",
    "print(f\"Mean Squared Error (Envi):\", mse)\n",
    "mae = mean_absolute_error(y_test, y_pred)\n",
    "print(f\"Mean Absolute Error (Envi):\", mae)\n",
    "\n",
    "print(\"R-squared (Test score)\", model.score(X_test, y_test))\n",
    "print(\"Train score\", model.score(X_train, y_train))"
   ]
  },
  {
   "cell_type": "markdown",
   "metadata": {
    "id": "zuOarclmFosM"
   },
   "source": [
    "# Visualization"
   ]
  },
  {
   "cell_type": "code",
   "execution_count": 9,
   "metadata": {
    "colab": {
     "base_uri": "https://localhost:8080/",
     "height": 407
    },
    "id": "pnrTdDKjFaII",
    "outputId": "af7bb755-0c3a-4e21-da6e-ae46dc5e94ee"
   },
   "outputs": [
    {
     "data": {
      "image/png": "[encoded data removed]",
      "text/plain": [
       "<Figure size 432x288 with 1 Axes>"
      ]
     },
     "metadata": {
      "needs_background": "light"
     },
     "output_type": "display_data"
    }
   ],
   "source": [
    "X_test_array = X_test.to_numpy()\n",
    "y_test_array = y_test.to_numpy()\n",
    "\n",
    "fig, ax = plt.subplots(figsize=(6, 4))\n",
    "\n",
    "ax.plot(np.arange(0, 26, 1), X_test_array[1], 'b-', label='Input')\n",
    "ax.plot(np.arange(14, 28, 1), y_test_array[1], color='yellow', label='Actual', linewidth=2)\n",
    "ax.plot(np.arange(14, 28, 1), y_pred[1], color='green', label='Predicted', linestyle='--')\n",
    "\n",
    "ax.set_xlabel('timesteps')\n",
    "ax.set_ylabel('Quantity')\n",
    "plt.grid(True)\n",
    "plt.legend(loc=2)\n",
    "fig.autofmt_xdate()\n",
    "plt.tight_layout()\n",
    "plt.show()"
   ]
  }
 ],
 "metadata": {
  "colab": {
   "provenance": []
  },
  "kernelspec": {
   "display_name": "Python 3",
   "language": "python",
   "name": "python3"
  },
  "language_info": {
   "codemirror_mode": {
    "name": "ipython",
    "version": 3
   },
   "file_extension": ".py",
   "mimetype": "text/x-python",
   "name": "python",
   "nbconvert_exporter": "python",
   "pygments_lexer": "ipython3",
   "version": "3.8.3"
  }
 },
 "nbformat": 4,
 "nbformat_minor": 4
}

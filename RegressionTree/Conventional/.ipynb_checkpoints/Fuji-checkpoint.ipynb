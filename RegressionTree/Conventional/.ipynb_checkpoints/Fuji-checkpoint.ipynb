{
 "cells": [
  {
   "cell_type": "code",
   "execution_count": 1,
   "metadata": {
    "id": "3GtDpknyAOfs"
   },
   "outputs": [],
   "source": [
    "import sys\n",
    "sys.path.append('../../')\n",
    "from helpers.window import window_input_output"
   ]
  },
  {
   "cell_type": "code",
   "execution_count": 2,
   "metadata": {
    "id": "zlVuC9P66_Iu"
   },
   "outputs": [],
   "source": [
    "import pandas as pd\n",
    "import numpy as np\n",
    "import matplotlib.pyplot as plt\n",
    "import seaborn as sns\n",
    "from sklearn.tree import DecisionTreeRegressor\n",
    "from sklearn.model_selection import train_test_split, GridSearchCV\n",
    "from sklearn.metrics import mean_absolute_error, mean_squared_error"
   ]
  },
  {
   "cell_type": "markdown",
   "metadata": {
    "id": "F-4sPDEz-B5b"
   },
   "source": [
    "# Import data"
   ]
  },
  {
   "cell_type": "code",
   "execution_count": 3,
   "metadata": {
    "colab": {
     "base_uri": "https://localhost:8080/",
     "height": 206
    },
    "id": "VZqHlm7u9UYe",
    "outputId": "3c1a413b-3d4b-45e1-c01e-6e602819f0cd"
   },
   "outputs": [
    {
     "data": {
      "text/html": [
       "<div>\n",
       "<style scoped>\n",
       "    .dataframe tbody tr th:only-of-type {\n",
       "        vertical-align: middle;\n",
       "    }\n",
       "\n",
       "    .dataframe tbody tr th {\n",
       "        vertical-align: top;\n",
       "    }\n",
       "\n",
       "    .dataframe thead th {\n",
       "        text-align: right;\n",
       "    }\n",
       "</style>\n",
       "<table border=\"1\" class=\"dataframe\">\n",
       "  <thead>\n",
       "    <tr style=\"text-align: right;\">\n",
       "      <th></th>\n",
       "      <th>Date</th>\n",
       "      <th>Envi</th>\n",
       "      <th>Fuji</th>\n",
       "      <th>Gala</th>\n",
       "    </tr>\n",
       "  </thead>\n",
       "  <tbody>\n",
       "    <tr>\n",
       "      <th>0</th>\n",
       "      <td>2015-01-04</td>\n",
       "      <td>117454</td>\n",
       "      <td>429518</td>\n",
       "      <td>5554</td>\n",
       "    </tr>\n",
       "    <tr>\n",
       "      <th>1</th>\n",
       "      <td>2015-01-11</td>\n",
       "      <td>110974</td>\n",
       "      <td>427723</td>\n",
       "      <td>5358</td>\n",
       "    </tr>\n",
       "    <tr>\n",
       "      <th>2</th>\n",
       "      <td>2015-01-18</td>\n",
       "      <td>151977</td>\n",
       "      <td>500684</td>\n",
       "      <td>4225</td>\n",
       "    </tr>\n",
       "    <tr>\n",
       "      <th>3</th>\n",
       "      <td>2015-01-25</td>\n",
       "      <td>140914</td>\n",
       "      <td>422435</td>\n",
       "      <td>4945</td>\n",
       "    </tr>\n",
       "    <tr>\n",
       "      <th>4</th>\n",
       "      <td>2015-02-01</td>\n",
       "      <td>217716</td>\n",
       "      <td>608156</td>\n",
       "      <td>5736</td>\n",
       "    </tr>\n",
       "  </tbody>\n",
       "</table>\n",
       "</div>"
      ],
      "text/plain": [
       "         Date    Envi    Fuji  Gala\n",
       "0  2015-01-04  117454  429518  5554\n",
       "1  2015-01-11  110974  427723  5358\n",
       "2  2015-01-18  151977  500684  4225\n",
       "3  2015-01-25  140914  422435  4945\n",
       "4  2015-02-01  217716  608156  5736"
      ]
     },
     "execution_count": 3,
     "metadata": {},
     "output_type": "execute_result"
    }
   ],
   "source": [
    "df = pd.read_csv('../../datasets/Conventional.csv')\n",
    "df.head()"
   ]
  },
  {
   "cell_type": "code",
   "execution_count": 4,
   "metadata": {
    "colab": {
     "base_uri": "https://localhost:8080/",
     "height": 452
    },
    "id": "beUo_j8C99Jy",
    "outputId": "29b7a322-fa17-4669-e2c9-921e180766c1"
   },
   "outputs": [
    {
     "data": {
      "image/png": "[encoded data removed]",
      "text/plain": [
       "<Figure size 432x288 with 1 Axes>"
      ]
     },
     "metadata": {
      "needs_background": "light"
     },
     "output_type": "display_data"
    }
   ],
   "source": [
    "data = df[['Fuji']]\n",
    "data.hist();"
   ]
  },
  {
   "cell_type": "code",
   "execution_count": 5,
   "metadata": {
    "colab": {
     "base_uri": "https://localhost:8080/",
     "height": 443
    },
    "id": "tlSLMtvnEnTo",
    "outputId": "604b355f-6314-46de-e237-7c90e4e53ee7"
   },
   "outputs": [
    {
     "data": {
      "text/html": [
       "<div>\n",
       "<style scoped>\n",
       "    .dataframe tbody tr th:only-of-type {\n",
       "        vertical-align: middle;\n",
       "    }\n",
       "\n",
       "    .dataframe tbody tr th {\n",
       "        vertical-align: top;\n",
       "    }\n",
       "\n",
       "    .dataframe thead th {\n",
       "        text-align: right;\n",
       "    }\n",
       "</style>\n",
       "<table border=\"1\" class=\"dataframe\">\n",
       "  <thead>\n",
       "    <tr style=\"text-align: right;\">\n",
       "      <th></th>\n",
       "      <th>Fuji</th>\n",
       "      <th>x_1</th>\n",
       "      <th>x_2</th>\n",
       "      <th>x_3</th>\n",
       "      <th>x_4</th>\n",
       "      <th>x_5</th>\n",
       "      <th>x_6</th>\n",
       "      <th>x_7</th>\n",
       "      <th>x_8</th>\n",
       "      <th>x_9</th>\n",
       "      <th>...</th>\n",
       "      <th>y_4</th>\n",
       "      <th>y_5</th>\n",
       "      <th>y_6</th>\n",
       "      <th>y_7</th>\n",
       "      <th>y_8</th>\n",
       "      <th>y_9</th>\n",
       "      <th>y_10</th>\n",
       "      <th>y_11</th>\n",
       "      <th>y_12</th>\n",
       "      <th>y_13</th>\n",
       "    </tr>\n",
       "  </thead>\n",
       "  <tbody>\n",
       "    <tr>\n",
       "      <th>27</th>\n",
       "      <td>423853</td>\n",
       "      <td>428389.0</td>\n",
       "      <td>362226.0</td>\n",
       "      <td>405470.0</td>\n",
       "      <td>401133.0</td>\n",
       "      <td>439309.0</td>\n",
       "      <td>365471.0</td>\n",
       "      <td>369924.0</td>\n",
       "      <td>305201.0</td>\n",
       "      <td>454026.0</td>\n",
       "      <td>...</td>\n",
       "      <td>491584.0</td>\n",
       "      <td>487874.0</td>\n",
       "      <td>584094.0</td>\n",
       "      <td>404107.0</td>\n",
       "      <td>466313.0</td>\n",
       "      <td>608156.0</td>\n",
       "      <td>422435.0</td>\n",
       "      <td>500684.0</td>\n",
       "      <td>427723.0</td>\n",
       "      <td>429518.0</td>\n",
       "    </tr>\n",
       "    <tr>\n",
       "      <th>28</th>\n",
       "      <td>513055</td>\n",
       "      <td>423853.0</td>\n",
       "      <td>428389.0</td>\n",
       "      <td>362226.0</td>\n",
       "      <td>405470.0</td>\n",
       "      <td>401133.0</td>\n",
       "      <td>439309.0</td>\n",
       "      <td>365471.0</td>\n",
       "      <td>369924.0</td>\n",
       "      <td>305201.0</td>\n",
       "      <td>...</td>\n",
       "      <td>403061.0</td>\n",
       "      <td>491584.0</td>\n",
       "      <td>487874.0</td>\n",
       "      <td>584094.0</td>\n",
       "      <td>404107.0</td>\n",
       "      <td>466313.0</td>\n",
       "      <td>608156.0</td>\n",
       "      <td>422435.0</td>\n",
       "      <td>500684.0</td>\n",
       "      <td>427723.0</td>\n",
       "    </tr>\n",
       "    <tr>\n",
       "      <th>29</th>\n",
       "      <td>376355</td>\n",
       "      <td>513055.0</td>\n",
       "      <td>423853.0</td>\n",
       "      <td>428389.0</td>\n",
       "      <td>362226.0</td>\n",
       "      <td>405470.0</td>\n",
       "      <td>401133.0</td>\n",
       "      <td>439309.0</td>\n",
       "      <td>365471.0</td>\n",
       "      <td>369924.0</td>\n",
       "      <td>...</td>\n",
       "      <td>380285.0</td>\n",
       "      <td>403061.0</td>\n",
       "      <td>491584.0</td>\n",
       "      <td>487874.0</td>\n",
       "      <td>584094.0</td>\n",
       "      <td>404107.0</td>\n",
       "      <td>466313.0</td>\n",
       "      <td>608156.0</td>\n",
       "      <td>422435.0</td>\n",
       "      <td>500684.0</td>\n",
       "    </tr>\n",
       "    <tr>\n",
       "      <th>30</th>\n",
       "      <td>423520</td>\n",
       "      <td>376355.0</td>\n",
       "      <td>513055.0</td>\n",
       "      <td>423853.0</td>\n",
       "      <td>428389.0</td>\n",
       "      <td>362226.0</td>\n",
       "      <td>405470.0</td>\n",
       "      <td>401133.0</td>\n",
       "      <td>439309.0</td>\n",
       "      <td>365471.0</td>\n",
       "      <td>...</td>\n",
       "      <td>371990.0</td>\n",
       "      <td>380285.0</td>\n",
       "      <td>403061.0</td>\n",
       "      <td>491584.0</td>\n",
       "      <td>487874.0</td>\n",
       "      <td>584094.0</td>\n",
       "      <td>404107.0</td>\n",
       "      <td>466313.0</td>\n",
       "      <td>608156.0</td>\n",
       "      <td>422435.0</td>\n",
       "    </tr>\n",
       "    <tr>\n",
       "      <th>31</th>\n",
       "      <td>377129</td>\n",
       "      <td>423520.0</td>\n",
       "      <td>376355.0</td>\n",
       "      <td>513055.0</td>\n",
       "      <td>423853.0</td>\n",
       "      <td>428389.0</td>\n",
       "      <td>362226.0</td>\n",
       "      <td>405470.0</td>\n",
       "      <td>401133.0</td>\n",
       "      <td>439309.0</td>\n",
       "      <td>...</td>\n",
       "      <td>396450.0</td>\n",
       "      <td>371990.0</td>\n",
       "      <td>380285.0</td>\n",
       "      <td>403061.0</td>\n",
       "      <td>491584.0</td>\n",
       "      <td>487874.0</td>\n",
       "      <td>584094.0</td>\n",
       "      <td>404107.0</td>\n",
       "      <td>466313.0</td>\n",
       "      <td>608156.0</td>\n",
       "    </tr>\n",
       "    <tr>\n",
       "      <th>...</th>\n",
       "      <td>...</td>\n",
       "      <td>...</td>\n",
       "      <td>...</td>\n",
       "      <td>...</td>\n",
       "      <td>...</td>\n",
       "      <td>...</td>\n",
       "      <td>...</td>\n",
       "      <td>...</td>\n",
       "      <td>...</td>\n",
       "      <td>...</td>\n",
       "      <td>...</td>\n",
       "      <td>...</td>\n",
       "      <td>...</td>\n",
       "      <td>...</td>\n",
       "      <td>...</td>\n",
       "      <td>...</td>\n",
       "      <td>...</td>\n",
       "      <td>...</td>\n",
       "      <td>...</td>\n",
       "      <td>...</td>\n",
       "      <td>...</td>\n",
       "    </tr>\n",
       "    <tr>\n",
       "      <th>164</th>\n",
       "      <td>254658</td>\n",
       "      <td>197245.0</td>\n",
       "      <td>251175.0</td>\n",
       "      <td>468889.0</td>\n",
       "      <td>215803.0</td>\n",
       "      <td>233969.0</td>\n",
       "      <td>323916.0</td>\n",
       "      <td>292349.0</td>\n",
       "      <td>355322.0</td>\n",
       "      <td>171218.0</td>\n",
       "      <td>...</td>\n",
       "      <td>238206.0</td>\n",
       "      <td>158787.0</td>\n",
       "      <td>140122.0</td>\n",
       "      <td>249373.0</td>\n",
       "      <td>161436.0</td>\n",
       "      <td>156645.0</td>\n",
       "      <td>167203.0</td>\n",
       "      <td>165312.0</td>\n",
       "      <td>379023.0</td>\n",
       "      <td>324068.0</td>\n",
       "    </tr>\n",
       "    <tr>\n",
       "      <th>165</th>\n",
       "      <td>258653</td>\n",
       "      <td>254658.0</td>\n",
       "      <td>197245.0</td>\n",
       "      <td>251175.0</td>\n",
       "      <td>468889.0</td>\n",
       "      <td>215803.0</td>\n",
       "      <td>233969.0</td>\n",
       "      <td>323916.0</td>\n",
       "      <td>292349.0</td>\n",
       "      <td>355322.0</td>\n",
       "      <td>...</td>\n",
       "      <td>226577.0</td>\n",
       "      <td>238206.0</td>\n",
       "      <td>158787.0</td>\n",
       "      <td>140122.0</td>\n",
       "      <td>249373.0</td>\n",
       "      <td>161436.0</td>\n",
       "      <td>156645.0</td>\n",
       "      <td>167203.0</td>\n",
       "      <td>165312.0</td>\n",
       "      <td>379023.0</td>\n",
       "    </tr>\n",
       "    <tr>\n",
       "      <th>166</th>\n",
       "      <td>205340</td>\n",
       "      <td>258653.0</td>\n",
       "      <td>254658.0</td>\n",
       "      <td>197245.0</td>\n",
       "      <td>251175.0</td>\n",
       "      <td>468889.0</td>\n",
       "      <td>215803.0</td>\n",
       "      <td>233969.0</td>\n",
       "      <td>323916.0</td>\n",
       "      <td>292349.0</td>\n",
       "      <td>...</td>\n",
       "      <td>320968.0</td>\n",
       "      <td>226577.0</td>\n",
       "      <td>238206.0</td>\n",
       "      <td>158787.0</td>\n",
       "      <td>140122.0</td>\n",
       "      <td>249373.0</td>\n",
       "      <td>161436.0</td>\n",
       "      <td>156645.0</td>\n",
       "      <td>167203.0</td>\n",
       "      <td>165312.0</td>\n",
       "    </tr>\n",
       "    <tr>\n",
       "      <th>167</th>\n",
       "      <td>260748</td>\n",
       "      <td>205340.0</td>\n",
       "      <td>258653.0</td>\n",
       "      <td>254658.0</td>\n",
       "      <td>197245.0</td>\n",
       "      <td>251175.0</td>\n",
       "      <td>468889.0</td>\n",
       "      <td>215803.0</td>\n",
       "      <td>233969.0</td>\n",
       "      <td>323916.0</td>\n",
       "      <td>...</td>\n",
       "      <td>269918.0</td>\n",
       "      <td>320968.0</td>\n",
       "      <td>226577.0</td>\n",
       "      <td>238206.0</td>\n",
       "      <td>158787.0</td>\n",
       "      <td>140122.0</td>\n",
       "      <td>249373.0</td>\n",
       "      <td>161436.0</td>\n",
       "      <td>156645.0</td>\n",
       "      <td>167203.0</td>\n",
       "    </tr>\n",
       "    <tr>\n",
       "      <th>168</th>\n",
       "      <td>222958</td>\n",
       "      <td>260748.0</td>\n",
       "      <td>205340.0</td>\n",
       "      <td>258653.0</td>\n",
       "      <td>254658.0</td>\n",
       "      <td>197245.0</td>\n",
       "      <td>251175.0</td>\n",
       "      <td>468889.0</td>\n",
       "      <td>215803.0</td>\n",
       "      <td>233969.0</td>\n",
       "      <td>...</td>\n",
       "      <td>196662.0</td>\n",
       "      <td>269918.0</td>\n",
       "      <td>320968.0</td>\n",
       "      <td>226577.0</td>\n",
       "      <td>238206.0</td>\n",
       "      <td>158787.0</td>\n",
       "      <td>140122.0</td>\n",
       "      <td>249373.0</td>\n",
       "      <td>161436.0</td>\n",
       "      <td>156645.0</td>\n",
       "    </tr>\n",
       "  </tbody>\n",
       "</table>\n",
       "<p>142 rows × 40 columns</p>\n",
       "</div>"
      ],
      "text/plain": [
       "       Fuji       x_1       x_2       x_3       x_4       x_5       x_6   \n",
       "27   423853  428389.0  362226.0  405470.0  401133.0  439309.0  365471.0  \\\n",
       "28   513055  423853.0  428389.0  362226.0  405470.0  401133.0  439309.0   \n",
       "29   376355  513055.0  423853.0  428389.0  362226.0  405470.0  401133.0   \n",
       "30   423520  376355.0  513055.0  423853.0  428389.0  362226.0  405470.0   \n",
       "31   377129  423520.0  376355.0  513055.0  423853.0  428389.0  362226.0   \n",
       "..      ...       ...       ...       ...       ...       ...       ...   \n",
       "164  254658  197245.0  251175.0  468889.0  215803.0  233969.0  323916.0   \n",
       "165  258653  254658.0  197245.0  251175.0  468889.0  215803.0  233969.0   \n",
       "166  205340  258653.0  254658.0  197245.0  251175.0  468889.0  215803.0   \n",
       "167  260748  205340.0  258653.0  254658.0  197245.0  251175.0  468889.0   \n",
       "168  222958  260748.0  205340.0  258653.0  254658.0  197245.0  251175.0   \n",
       "\n",
       "          x_7       x_8       x_9  ...       y_4       y_5       y_6   \n",
       "27   369924.0  305201.0  454026.0  ...  491584.0  487874.0  584094.0  \\\n",
       "28   365471.0  369924.0  305201.0  ...  403061.0  491584.0  487874.0   \n",
       "29   439309.0  365471.0  369924.0  ...  380285.0  403061.0  491584.0   \n",
       "30   401133.0  439309.0  365471.0  ...  371990.0  380285.0  403061.0   \n",
       "31   405470.0  401133.0  439309.0  ...  396450.0  371990.0  380285.0   \n",
       "..        ...       ...       ...  ...       ...       ...       ...   \n",
       "164  292349.0  355322.0  171218.0  ...  238206.0  158787.0  140122.0   \n",
       "165  323916.0  292349.0  355322.0  ...  226577.0  238206.0  158787.0   \n",
       "166  233969.0  323916.0  292349.0  ...  320968.0  226577.0  238206.0   \n",
       "167  215803.0  233969.0  323916.0  ...  269918.0  320968.0  226577.0   \n",
       "168  468889.0  215803.0  233969.0  ...  196662.0  269918.0  320968.0   \n",
       "\n",
       "          y_7       y_8       y_9      y_10      y_11      y_12      y_13  \n",
       "27   404107.0  466313.0  608156.0  422435.0  500684.0  427723.0  429518.0  \n",
       "28   584094.0  404107.0  466313.0  608156.0  422435.0  500684.0  427723.0  \n",
       "29   487874.0  584094.0  404107.0  466313.0  608156.0  422435.0  500684.0  \n",
       "30   491584.0  487874.0  584094.0  404107.0  466313.0  608156.0  422435.0  \n",
       "31   403061.0  491584.0  487874.0  584094.0  404107.0  466313.0  608156.0  \n",
       "..        ...       ...       ...       ...       ...       ...       ...  \n",
       "164  249373.0  161436.0  156645.0  167203.0  165312.0  379023.0  324068.0  \n",
       "165  140122.0  249373.0  161436.0  156645.0  167203.0  165312.0  379023.0  \n",
       "166  158787.0  140122.0  249373.0  161436.0  156645.0  167203.0  165312.0  \n",
       "167  238206.0  158787.0  140122.0  249373.0  161436.0  156645.0  167203.0  \n",
       "168  226577.0  238206.0  158787.0  140122.0  249373.0  161436.0  156645.0  \n",
       "\n",
       "[142 rows x 40 columns]"
      ]
     },
     "execution_count": 5,
     "metadata": {},
     "output_type": "execute_result"
    }
   ],
   "source": [
    "seq_df = window_input_output(26, 14, data)\n",
    "seq_df"
   ]
  },
  {
   "cell_type": "markdown",
   "metadata": {
    "id": "YXbYpYYk_YSv"
   },
   "source": [
    "# Split data"
   ]
  },
  {
   "cell_type": "code",
   "execution_count": 6,
   "metadata": {
    "id": "Z0WphHJZ_eSY"
   },
   "outputs": [],
   "source": [
    "X_cols = [col for col in seq_df.columns if col.startswith('x')]\n",
    "X_cols.insert(0, 'Fuji')\n",
    "y_cols = [col for col in seq_df.columns if col.startswith('y')]\n",
    "\n",
    "X = seq_df[X_cols]\n",
    "y = seq_df[y_cols]\n",
    "\n",
    "X_train, X_test, y_train, y_test = train_test_split(X, y, test_size=0.2, shuffle=False, random_state=123)"
   ]
  },
  {
   "cell_type": "code",
   "execution_count": 7,
   "metadata": {
    "id": "x-_H7mmIE2yk"
   },
   "outputs": [],
   "source": [
    "params = {\n",
    "    'criterion': ['squared_error', 'friedman_mse', 'absolute_error', 'poisson'],\n",
    "    'splitter': ['best', 'random'],\n",
    "    'max_features': ['sqrt', 'log2'],\n",
    "    'max_depth': [3, 5, 7, 9, 11, 13],\n",
    "    'min_samples_split': [2, 4, 6, 8, 10],\n",
    "    'min_samples_leaf': [1, 2, 3, 4, 5],\n",
    "    'ccp_alpha': [0.1, 0.01, 0.001]\n",
    "}\n",
    "\n",
    "tree = DecisionTreeRegressor()\n",
    "\n",
    "gs = GridSearchCV(estimator=tree, param_grid=params, cv=5, n_jobs=-1)\n",
    "gs.fit(X_train, y_train)\n",
    "\n",
    "model = gs.best_estimator_\n",
    "\n",
    "y_pred = model.predict(X_test)"
   ]
  },
  {
   "cell_type": "markdown",
   "metadata": {
    "id": "BBfK6jigFQbL"
   },
   "source": [
    "# Score"
   ]
  },
  {
   "cell_type": "code",
   "execution_count": 8,
   "metadata": {
    "colab": {
     "base_uri": "https://localhost:8080/"
    },
    "id": "oAB2P7PZFPAh",
    "outputId": "813a7460-1db1-4dbe-ee09-6d623608ebfd"
   },
   "outputs": [
    {
     "name": "stdout",
     "output_type": "stream",
     "text": [
      "Mean Squared Error (Fuji): 6201016219.359296\n",
      "Mean Absolute Error (Fuji): 62626.48007662835\n",
      "R-squared (Test score) -0.3930912872121902\n",
      "Train score 0.6639621451730472\n"
     ]
    }
   ],
   "source": [
    "mse = mean_squared_error(y_test, y_pred)\n",
    "print(f\"Mean Squared Error (Fuji):\", mse)\n",
    "mae = mean_absolute_error(y_test, y_pred)\n",
    "print(f\"Mean Absolute Error (Fuji):\", mae)\n",
    "\n",
    "print(\"R-squared (Test score)\", model.score(X_test, y_test))\n",
    "print(\"Train score\", model.score(X_train, y_train))"
   ]
  },
  {
   "cell_type": "markdown",
   "metadata": {
    "id": "zuOarclmFosM"
   },
   "source": [
    "# Visualization"
   ]
  },
  {
   "cell_type": "code",
   "execution_count": 9,
   "metadata": {
    "colab": {
     "base_uri": "https://localhost:8080/",
     "height": 407
    },
    "id": "pnrTdDKjFaII",
    "outputId": "52a952f1-1e8f-4174-9677-7b68cfb8ef3e"
   },
   "outputs": [
    {
     "data": {
      "image/png": "[encoded data removed]",
      "text/plain": [
       "<Figure size 432x288 with 1 Axes>"
      ]
     },
     "metadata": {
      "needs_background": "light"
     },
     "output_type": "display_data"
    }
   ],
   "source": [
    "X_test_array = X_test.to_numpy()\n",
    "y_test_array = y_test.to_numpy()\n",
    "\n",
    "fig, ax = plt.subplots(figsize=(6, 4))\n",
    "\n",
    "ax.plot(np.arange(0, 26, 1), X_test_array[1], 'b-', label='Input')\n",
    "ax.plot(np.arange(14, 28, 1), y_test_array[1], color='yellow', label='Actual', linewidth=2)\n",
    "ax.plot(np.arange(14, 28, 1), y_pred[1], color='green', label='Predicted', linestyle='--')\n",
    "\n",
    "ax.set_xlabel('timesteps')\n",
    "ax.set_ylabel('Quantity')\n",
    "plt.grid(True)\n",
    "plt.legend(loc=2)\n",
    "fig.autofmt_xdate()\n",
    "plt.tight_layout()\n",
    "plt.show()"
   ]
  }
 ],
 "metadata": {
  "colab": {
   "provenance": []
  },
  "kernelspec": {
   "display_name": "Python 3",
   "language": "python",
   "name": "python3"
  },
  "language_info": {
   "codemirror_mode": {
    "name": "ipython",
    "version": 3
   },
   "file_extension": ".py",
   "mimetype": "text/x-python",
   "name": "python",
   "nbconvert_exporter": "python",
   "pygments_lexer": "ipython3",
   "version": "3.8.3"
  }
 },
 "nbformat": 4,
 "nbformat_minor": 4
}

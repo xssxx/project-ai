{
 "cells": [
  {
   "cell_type": "code",
   "execution_count": 12,
   "metadata": {},
   "outputs": [],
   "source": [
    "import sys\n",
    "sys.path.append('../../')\n",
    "from helpers.window import window_input_output"
   ]
  },
  {
   "cell_type": "code",
   "execution_count": 13,
   "metadata": {},
   "outputs": [],
   "source": [
    "import pandas as pd\n",
    "import numpy as np\n",
    "import matplotlib.pyplot as plt\n",
    "import seaborn as sns\n",
    "from sklearn.linear_model import ElasticNet\n",
    "from sklearn.model_selection import train_test_split, GridSearchCV\n",
    "from sklearn.metrics import mean_absolute_error, mean_squared_error"
   ]
  },
  {
   "cell_type": "markdown",
   "metadata": {},
   "source": [
    "## Import data"
   ]
  },
  {
   "cell_type": "code",
   "execution_count": 14,
   "metadata": {},
   "outputs": [
    {
     "data": {
      "text/html": [
       "<div>\n",
       "<style scoped>\n",
       "    .dataframe tbody tr th:only-of-type {\n",
       "        vertical-align: middle;\n",
       "    }\n",
       "\n",
       "    .dataframe tbody tr th {\n",
       "        vertical-align: top;\n",
       "    }\n",
       "\n",
       "    .dataframe thead th {\n",
       "        text-align: right;\n",
       "    }\n",
       "</style>\n",
       "<table border=\"1\" class=\"dataframe\">\n",
       "  <thead>\n",
       "    <tr style=\"text-align: right;\">\n",
       "      <th></th>\n",
       "      <th>Date</th>\n",
       "      <th>Envi</th>\n",
       "      <th>Fuji</th>\n",
       "      <th>Gala</th>\n",
       "    </tr>\n",
       "  </thead>\n",
       "  <tbody>\n",
       "    <tr>\n",
       "      <th>0</th>\n",
       "      <td>2015-01-04</td>\n",
       "      <td>3199</td>\n",
       "      <td>6917</td>\n",
       "      <td>8</td>\n",
       "    </tr>\n",
       "    <tr>\n",
       "      <th>1</th>\n",
       "      <td>2015-01-11</td>\n",
       "      <td>8856</td>\n",
       "      <td>15071</td>\n",
       "      <td>25</td>\n",
       "    </tr>\n",
       "    <tr>\n",
       "      <th>2</th>\n",
       "      <td>2015-01-18</td>\n",
       "      <td>5475</td>\n",
       "      <td>32539</td>\n",
       "      <td>42</td>\n",
       "    </tr>\n",
       "    <tr>\n",
       "      <th>3</th>\n",
       "      <td>2015-01-25</td>\n",
       "      <td>4271</td>\n",
       "      <td>8412</td>\n",
       "      <td>585</td>\n",
       "    </tr>\n",
       "    <tr>\n",
       "      <th>4</th>\n",
       "      <td>2015-02-01</td>\n",
       "      <td>4824</td>\n",
       "      <td>10710</td>\n",
       "      <td>104</td>\n",
       "    </tr>\n",
       "  </tbody>\n",
       "</table>\n",
       "</div>"
      ],
      "text/plain": [
       "         Date  Envi   Fuji  Gala\n",
       "0  2015-01-04  3199   6917     8\n",
       "1  2015-01-11  8856  15071    25\n",
       "2  2015-01-18  5475  32539    42\n",
       "3  2015-01-25  4271   8412   585\n",
       "4  2015-02-01  4824  10710   104"
      ]
     },
     "execution_count": 14,
     "metadata": {},
     "output_type": "execute_result"
    }
   ],
   "source": [
    "df = pd.read_csv('../../datasets/Organic.csv')\n",
    "df.head()"
   ]
  },
  {
   "cell_type": "code",
   "execution_count": 15,
   "metadata": {},
   "outputs": [],
   "source": [
    "data = df[['Envi']]"
   ]
  },
  {
   "cell_type": "code",
   "execution_count": 16,
   "metadata": {},
   "outputs": [
    {
     "data": {
      "image/png": "[encoded data removed]",
      "text/plain": [
       "<Figure size 640x480 with 1 Axes>"
      ]
     },
     "metadata": {},
     "output_type": "display_data"
    }
   ],
   "source": [
    "data.hist();"
   ]
  },
  {
   "cell_type": "code",
   "execution_count": 17,
   "metadata": {},
   "outputs": [],
   "source": [
    "data = data.transform(np.log)"
   ]
  },
  {
   "cell_type": "code",
   "execution_count": 18,
   "metadata": {},
   "outputs": [
    {
     "data": {
      "text/html": [
       "<div>\n",
       "<style scoped>\n",
       "    .dataframe tbody tr th:only-of-type {\n",
       "        vertical-align: middle;\n",
       "    }\n",
       "\n",
       "    .dataframe tbody tr th {\n",
       "        vertical-align: top;\n",
       "    }\n",
       "\n",
       "    .dataframe thead th {\n",
       "        text-align: right;\n",
       "    }\n",
       "</style>\n",
       "<table border=\"1\" class=\"dataframe\">\n",
       "  <thead>\n",
       "    <tr style=\"text-align: right;\">\n",
       "      <th></th>\n",
       "      <th>Envi</th>\n",
       "      <th>x_1</th>\n",
       "      <th>x_2</th>\n",
       "      <th>x_3</th>\n",
       "      <th>x_4</th>\n",
       "      <th>x_5</th>\n",
       "      <th>x_6</th>\n",
       "      <th>x_7</th>\n",
       "      <th>x_8</th>\n",
       "      <th>x_9</th>\n",
       "      <th>...</th>\n",
       "      <th>y_16</th>\n",
       "      <th>y_17</th>\n",
       "      <th>y_18</th>\n",
       "      <th>y_19</th>\n",
       "      <th>y_20</th>\n",
       "      <th>y_21</th>\n",
       "      <th>y_22</th>\n",
       "      <th>y_23</th>\n",
       "      <th>y_24</th>\n",
       "      <th>y_25</th>\n",
       "    </tr>\n",
       "  </thead>\n",
       "  <tbody>\n",
       "    <tr>\n",
       "      <th>51</th>\n",
       "      <td>9.137770</td>\n",
       "      <td>9.127285</td>\n",
       "      <td>8.911934</td>\n",
       "      <td>8.253748</td>\n",
       "      <td>8.552367</td>\n",
       "      <td>8.801319</td>\n",
       "      <td>9.332027</td>\n",
       "      <td>10.530709</td>\n",
       "      <td>8.674368</td>\n",
       "      <td>7.503290</td>\n",
       "      <td>...</td>\n",
       "      <td>10.457143</td>\n",
       "      <td>9.665801</td>\n",
       "      <td>8.514590</td>\n",
       "      <td>7.760893</td>\n",
       "      <td>8.012350</td>\n",
       "      <td>8.481359</td>\n",
       "      <td>8.359603</td>\n",
       "      <td>8.607948</td>\n",
       "      <td>9.088850</td>\n",
       "      <td>8.070594</td>\n",
       "    </tr>\n",
       "    <tr>\n",
       "      <th>52</th>\n",
       "      <td>8.854094</td>\n",
       "      <td>9.137770</td>\n",
       "      <td>9.127285</td>\n",
       "      <td>8.911934</td>\n",
       "      <td>8.253748</td>\n",
       "      <td>8.552367</td>\n",
       "      <td>8.801319</td>\n",
       "      <td>9.332027</td>\n",
       "      <td>10.530709</td>\n",
       "      <td>8.674368</td>\n",
       "      <td>...</td>\n",
       "      <td>10.236955</td>\n",
       "      <td>10.457143</td>\n",
       "      <td>9.665801</td>\n",
       "      <td>8.514590</td>\n",
       "      <td>7.760893</td>\n",
       "      <td>8.012350</td>\n",
       "      <td>8.481359</td>\n",
       "      <td>8.359603</td>\n",
       "      <td>8.607948</td>\n",
       "      <td>9.088850</td>\n",
       "    </tr>\n",
       "    <tr>\n",
       "      <th>53</th>\n",
       "      <td>8.382518</td>\n",
       "      <td>8.854094</td>\n",
       "      <td>9.137770</td>\n",
       "      <td>9.127285</td>\n",
       "      <td>8.911934</td>\n",
       "      <td>8.253748</td>\n",
       "      <td>8.552367</td>\n",
       "      <td>8.801319</td>\n",
       "      <td>9.332027</td>\n",
       "      <td>10.530709</td>\n",
       "      <td>...</td>\n",
       "      <td>9.144841</td>\n",
       "      <td>10.236955</td>\n",
       "      <td>10.457143</td>\n",
       "      <td>9.665801</td>\n",
       "      <td>8.514590</td>\n",
       "      <td>7.760893</td>\n",
       "      <td>8.012350</td>\n",
       "      <td>8.481359</td>\n",
       "      <td>8.359603</td>\n",
       "      <td>8.607948</td>\n",
       "    </tr>\n",
       "    <tr>\n",
       "      <th>54</th>\n",
       "      <td>8.708144</td>\n",
       "      <td>8.382518</td>\n",
       "      <td>8.854094</td>\n",
       "      <td>9.137770</td>\n",
       "      <td>9.127285</td>\n",
       "      <td>8.911934</td>\n",
       "      <td>8.253748</td>\n",
       "      <td>8.552367</td>\n",
       "      <td>8.801319</td>\n",
       "      <td>9.332027</td>\n",
       "      <td>...</td>\n",
       "      <td>8.604471</td>\n",
       "      <td>9.144841</td>\n",
       "      <td>10.236955</td>\n",
       "      <td>10.457143</td>\n",
       "      <td>9.665801</td>\n",
       "      <td>8.514590</td>\n",
       "      <td>7.760893</td>\n",
       "      <td>8.012350</td>\n",
       "      <td>8.481359</td>\n",
       "      <td>8.359603</td>\n",
       "    </tr>\n",
       "    <tr>\n",
       "      <th>55</th>\n",
       "      <td>8.933400</td>\n",
       "      <td>8.708144</td>\n",
       "      <td>8.382518</td>\n",
       "      <td>8.854094</td>\n",
       "      <td>9.137770</td>\n",
       "      <td>9.127285</td>\n",
       "      <td>8.911934</td>\n",
       "      <td>8.253748</td>\n",
       "      <td>8.552367</td>\n",
       "      <td>8.801319</td>\n",
       "      <td>...</td>\n",
       "      <td>9.070733</td>\n",
       "      <td>8.604471</td>\n",
       "      <td>9.144841</td>\n",
       "      <td>10.236955</td>\n",
       "      <td>10.457143</td>\n",
       "      <td>9.665801</td>\n",
       "      <td>8.514590</td>\n",
       "      <td>7.760893</td>\n",
       "      <td>8.012350</td>\n",
       "      <td>8.481359</td>\n",
       "    </tr>\n",
       "  </tbody>\n",
       "</table>\n",
       "<p>5 rows × 52 columns</p>\n",
       "</div>"
      ],
      "text/plain": [
       "        Envi       x_1       x_2       x_3       x_4       x_5       x_6  \\\n",
       "51  9.137770  9.127285  8.911934  8.253748  8.552367  8.801319  9.332027   \n",
       "52  8.854094  9.137770  9.127285  8.911934  8.253748  8.552367  8.801319   \n",
       "53  8.382518  8.854094  9.137770  9.127285  8.911934  8.253748  8.552367   \n",
       "54  8.708144  8.382518  8.854094  9.137770  9.127285  8.911934  8.253748   \n",
       "55  8.933400  8.708144  8.382518  8.854094  9.137770  9.127285  8.911934   \n",
       "\n",
       "          x_7        x_8        x_9  ...       y_16       y_17       y_18  \\\n",
       "51  10.530709   8.674368   7.503290  ...  10.457143   9.665801   8.514590   \n",
       "52   9.332027  10.530709   8.674368  ...  10.236955  10.457143   9.665801   \n",
       "53   8.801319   9.332027  10.530709  ...   9.144841  10.236955  10.457143   \n",
       "54   8.552367   8.801319   9.332027  ...   8.604471   9.144841  10.236955   \n",
       "55   8.253748   8.552367   8.801319  ...   9.070733   8.604471   9.144841   \n",
       "\n",
       "         y_19       y_20      y_21      y_22      y_23      y_24      y_25  \n",
       "51   7.760893   8.012350  8.481359  8.359603  8.607948  9.088850  8.070594  \n",
       "52   8.514590   7.760893  8.012350  8.481359  8.359603  8.607948  9.088850  \n",
       "53   9.665801   8.514590  7.760893  8.012350  8.481359  8.359603  8.607948  \n",
       "54  10.457143   9.665801  8.514590  7.760893  8.012350  8.481359  8.359603  \n",
       "55  10.236955  10.457143  9.665801  8.514590  7.760893  8.012350  8.481359  \n",
       "\n",
       "[5 rows x 52 columns]"
      ]
     },
     "execution_count": 18,
     "metadata": {},
     "output_type": "execute_result"
    }
   ],
   "source": [
    "seq_df = window_input_output(26, 26, data)\n",
    "seq_df.head()"
   ]
  },
  {
   "cell_type": "markdown",
   "metadata": {},
   "source": [
    "## Split data"
   ]
  },
  {
   "cell_type": "code",
   "execution_count": 19,
   "metadata": {},
   "outputs": [],
   "source": [
    "X_cols = [col for col in seq_df.columns if col.startswith('x')]\n",
    "X_cols.insert(0, 'Envi')\n",
    "y_cols = [col for col in seq_df.columns if col.startswith('y')]\n",
    "\n",
    "X = seq_df[X_cols]\n",
    "y = seq_df[y_cols]\n",
    "\n",
    "X_train, X_test, y_train, y_test = train_test_split(X, y, test_size=0.2, shuffle=False, random_state=123)"
   ]
  },
  {
   "cell_type": "code",
   "execution_count": 20,
   "metadata": {},
   "outputs": [],
   "source": [
    "model = ElasticNet()\n",
    "model.fit(X_train, y_train)\n",
    "\n",
    "y_pred = model.predict(X_test)"
   ]
  },
  {
   "cell_type": "markdown",
   "metadata": {},
   "source": [
    "## Score"
   ]
  },
  {
   "cell_type": "code",
   "execution_count": 21,
   "metadata": {},
   "outputs": [
    {
     "name": "stdout",
     "output_type": "stream",
     "text": [
      "Mean Squared Error (Envi): 0.31343799063370015\n",
      "Mean Absolute Error (Envi): 0.44119498215026154\n",
      "R-squared (Test score) -0.37222827699027383\n",
      "Train score 0.0\n"
     ]
    }
   ],
   "source": [
    "mse = mean_squared_error(y_test, y_pred)\n",
    "print(f\"Mean Squared Error (Envi):\", mse)\n",
    "mae = mean_absolute_error(y_test, y_pred)\n",
    "print(f\"Mean Absolute Error (Envi):\", mae)\n",
    "\n",
    "print(\"R-squared (Test score)\", model.score(X_test, y_test))\n",
    "print(\"Train score\", model.score(X_train, y_train))"
   ]
  },
  {
   "cell_type": "code",
   "execution_count": 22,
   "metadata": {},
   "outputs": [
    {
     "data": {
      "image/png": "[encoded data removed]",
      "text/plain": [
       "<Figure size 600x400 with 1 Axes>"
      ]
     },
     "metadata": {},
     "output_type": "display_data"
    }
   ],
   "source": [
    "fig, ax = plt.subplots(figsize=(6, 4))\n",
    "\n",
    "ax.plot(np.arange(0, 26, 1), X_test.iloc[1, ], 'b-', label='Input')\n",
    "ax.plot(np.arange(26, 52, 1), y_test.iloc[1, ], color='blue', label='Actual')\n",
    "ax.plot(np.arange(26, 52, 1), y_pred[1], color='green', label='Predicted', linestyle='--')\n",
    "\n",
    "ax.set_xlabel('timesteps')\n",
    "ax.set_ylabel('Quantity')\n",
    "plt.grid(True)\n",
    "plt.legend(loc=2)\n",
    "fig.autofmt_xdate()\n",
    "plt.tight_layout()\n",
    "plt.show()"
   ]
  },
  {
   "cell_type": "code",
   "execution_count": 23,
   "metadata": {},
   "outputs": [
    {
     "data": {
      "image/png": "[encoded data removed]",
      "text/plain": [
       "<Figure size 640x480 with 1 Axes>"
      ]
     },
     "metadata": {},
     "output_type": "display_data"
    }
   ],
   "source": [
    "for i, col in enumerate(y_test.columns):\n",
    "    sns.scatterplot(x=y_test[col], y=y_pred[:, i])\n",
    "\n",
    "    max_val = max(y_test.max().max(), y_pred.max().max())\n",
    "    plt.plot([0, max_val], [0, max_val], color='black', linestyle='--')"
   ]
  },
  {
   "cell_type": "code",
   "execution_count": null,
   "metadata": {},
   "outputs": [],
   "source": []
  }
 ],
 "metadata": {
  "kernelspec": {
   "display_name": "Python 3.8.10 64-bit",
   "language": "python",
   "name": "python3"
  },
  "language_info": {
   "codemirror_mode": {
    "name": "ipython",
    "version": 3
   },
   "file_extension": ".py",
   "mimetype": "text/x-python",
   "name": "python",
   "nbconvert_exporter": "python",
   "pygments_lexer": "ipython3",
   "version": "3.8.10"
  },
  "orig_nbformat": 4,
  "vscode": {
   "interpreter": {
    "hash": "ffbfc792e496a15b6b750fac43e7a9afdc7c26545a7abda9dc172ad3cb978227"
   }
  }
 },
 "nbformat": 4,
 "nbformat_minor": 2
}
